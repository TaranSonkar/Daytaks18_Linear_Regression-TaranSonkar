{
  "nbformat": 4,
  "nbformat_minor": 0,
  "metadata": {
    "colab": {
      "name": "Daytaks18-Linear Regression.ipynb",
      "provenance": [],
      "collapsed_sections": []
    },
    "kernelspec": {
      "name": "python3",
      "display_name": "Python 3"
    },
    "language_info": {
      "name": "python"
    }
  },
  "cells": [
    {
      "cell_type": "markdown",
      "metadata": {
        "id": "VnUEAQefivaQ"
      },
      "source": [
        "#**Linear Regression**\n",
        "\n",
        "\n",
        "---\n"
      ]
    },
    {
      "cell_type": "markdown",
      "metadata": {
        "id": "0H_WbV1dV678"
      },
      "source": [
        "**What is Regression and Why is it called so?**\n",
        " \n",
        "Regression is an ML algorithm that can be trained to predict real numbered outputs; like temperature, stock price, etc. Regression is based on a hypothesis that can be linear, quadratic, polynomial, non-linear, etc. The hypothesis is a function based on some hidden parameters and input values. In the training phase, the hidden parameters are optimized w.r.t. the input values presented in the training. The process that does the optimization is the gradient descent algorithm. You also need a Back-propagation algorithm that can be used to compute the gradient at each layer, If you are using neural networks. Once the hypothesis parameters got trained (when they gave the least error during the training), then the same hypothesis with the trained parameters is used with new input values to predict outcomes that will be again real values. \n",
        " \n",
        "Advantages/Features of Linear Regression \n",
        "Linear regression is an extremely simple method.\n",
        "It is very easy and intuitive to use and understand.\n",
        "A person with only the knowledge of high school mathematics can understand and use it.\n",
        "In addition, it works in most cases. Even when it doesn’t fit the data exactly, we can use it to find the nature of the relationship between the two variables.\n",
        "Disadvantages/Shortcomings of Linear Regression \n",
        "By its definition, linear regression only models relationships between dependent and independent variables that are linear. It assumes there is a straight-line relationship between them which is incorrect sometimes. Linear regression is very sensitive to the anomalies in the data (or outliers).\n",
        "Take for example most of your data lies in the range 0-10. If due to any reason only one of the data items comes out of the range, say for example 15, this significantly influences the regression coefficients.\n",
        "Another disadvantage is that if we have a number of parameters than the number of samples available then the model starts to model the noise rather than the relationship between the variables.\n",
        "\n",
        "\n",
        "\n",
        "---\n",
        "\n",
        "\n",
        "#Types of Regression \n",
        " \n",
        "1. Linear regression is used for predictive analysis. Linear regression is a linear approach for modeling the relationship between the criterion or the scalar response and the multiple predictors or explanatory variables. Linear regression focuses on the conditional probability distribution of the response given the values of the predictors. For linear regression, there is a danger of overfitting. The formula for linear regression is Y’ = bX + A.\n",
        " \n",
        "2. Logistic regression is used when the dependent variable is dichotomous. Logistic regression estimates the parameters of a logistic model and is a form of binomial regression. Logistic regression is used to deal with data that has two possible criteria and the relationship between the criteria and the predictors. The equation for logistic regression is l = \\beta_{0}+\\beta_{1}x_{1}+\\beta_{2}x_{2}.\n",
        " \n",
        " #There are many type of Linear Regression\n",
        "\n",
        " \n",
        "Key Terms \n",
        " \n",
        "1. Estimator\n",
        " A formula or algorithm for generating estimates of parameters, given relevant data.\n",
        " \n",
        "2. Bias\n",
        "An estimate is unbiased if its expectation equals the value of the parameter being estimated; otherwise, it is biased.\n",
        " \n"
      ]
    },
    {
      "cell_type": "markdown",
      "metadata": {
        "id": "wrWI8zjhfOLh"
      },
      "source": [
        "\n",
        "\n",
        "\n",
        "#**TOPIC**\n",
        "\n",
        "\n",
        "\n",
        "> Linear Regression Algorithm\n",
        "\n",
        "\n",
        "> Applications of Linear Regression\n",
        "\n",
        "\n",
        "> Use case of Linear Regression\n",
        "\n",
        "\n",
        "\n",
        "\n",
        "\n",
        "\n",
        "\n",
        "\n",
        "\n",
        "\n",
        "\n",
        "\n"
      ]
    },
    {
      "cell_type": "markdown",
      "metadata": {
        "id": "mgv-XLBrhKH8"
      },
      "source": [
        "#Linear Regression Algorithm\n",
        "\n",
        "Linear Regression is a machine learning algorithm based on supervised learning. ... Linear regression performs the task to predict a dependent variable value (y) based on a given independent variable (x). So, this regression technique finds out a linear relationship between x (input) and y(output)"
      ]
    },
    {
      "cell_type": "markdown",
      "metadata": {
        "id": "bmddaeNHUoMs"
      },
      "source": [
        "Introduction \n",
        " \n",
        "Artificial Intelligence has become prevalent to resolve complex problems in our world throughout different sectors.\n",
        " \n",
        "Developers, data scientists and researchers across different disciplines use this technology to make their lives easier. For example, doctors use AI to classify whether a tumor is malignant or benign, commercials are using AI to predict customer features, and meteorologists use AI to predict the weather.\n",
        " \n",
        "The impetus behind such ubiquitous use of AI is machine learning prediction. This is applicable to every real complex problem which we cannot solve manually.\n",
        " \n",
        "In this post, I write about the linear regression problem, used to predict a real-valued output based on independent predictors.\n",
        " \n",
        "It is a very simple approach for supervised learning. This method is mostly used for forecasting and finding out cause and effect relationship between variables (X,Y)\n",
        " \n",
        "Mathematically, we can write a linear relationship as,\n",
        " \n",
        "Y= beta0+ beta1 x1 + beta2 x2 + … + betan xn\n",
        "\n",
        "Y : The predictive result\n",
        "\n",
        "Beta : The Model coefficients (is learned in the training step)\n",
        "\n",
        "Beta0 : The intercept\n",
        "\n",
        "Beta1 : first feature\n",
        "\n",
        "Betan : the nth feature"
      ]
    },
    {
      "cell_type": "markdown",
      "metadata": {
        "id": "0aohET7NVI5j"
      },
      "source": [
        "![WhatsApp Image 2021-06-30 at 2.45.00 PM.jpeg](data:image/jpeg;base64,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)"
      ]
    },
    {
      "cell_type": "markdown",
      "metadata": {
        "id": "umSKW_mLVfLV"
      },
      "source": [
        "Based on the given data points we draw the graph. Then we draw the line that regroups the max of point in the above graph is referred to as the best fit straight line.\n",
        " \n",
        "The raining process of the model. it’s way when we can find out coefficients for the linear function (beta)\n",
        " \n",
        "The cost function is the fact of minimizing the error.\n",
        " \n",
        "To estimate the coefficients, we use gradient Descent, **Start with some values of the coefficients/parameters(2x+3y >>> 2 and 3 are coefficients), beta0=0, beta1=0, keep changing beta0 and beta1 until we obtain the best result.**"
      ]
    },
    {
      "cell_type": "markdown",
      "metadata": {
        "id": "3k1wFeBIWgJN"
      },
      "source": [
        "#**Simple Linear Regression Model**\n",
        " \n",
        "The simple linear regression model is represented like this: y = (β0 +β1 + Ε)\n",
        " \n",
        "By mathematical convention, the two factors that are involved in simple linear regression analysis are designated x and y. The equation that describes how y is related to x is known as the regression model. The linear regression model also contains an error term that is represented by Ε, or the Greek letter epsilon. The error term is used to account for the variability in y that cannot be explained by the linear relationship between x and y. There also parameters that represent the population being studied. These parameters of the model are represented by (β0+β1x).\n",
        " \n",
        "The simple linear regression equation is graphed as a straight line. \n",
        " \n",
        "The simple linear regression equation is represented like this: Ε(y) = (β0 +β1*x)\n",
        "β0 is the y-intercept of the regression line.\n",
        "β1 is the slope.\n",
        "Ε(y) is the mean or expected value of y for a given value of x.\n",
        "\n",
        "**A regression line can show a positive linear relationship, a negative linear relationship, or no relationship.**\n",
        "If the graphed line in a simple linear regression is flat (not sloped), there is no relationship between the two variables.\n",
        "If the regression line slopes upward with the lower end of the line at the y-intercept (axis) of the graph, and the upper end of the line extending upward into the graph field, away from the x-intercept (axis) a positive linear relationship exists.\n",
        "If the regression line slopes downward with the upper end of the line at the y-intercept (axis) of the graph, and the lower end of the line extending downward into the graph field, toward the x-intercept (axis) a negative linear relationship exists."
      ]
    },
    {
      "cell_type": "markdown",
      "metadata": {
        "id": "W9oziPk0k2_4"
      },
      "source": [
        "#**Applications of Linear Regression**\n",
        "\n",
        "Linear regressions can be used in business to evaluate trends and make estimates or forecasts. For example, if a company's sales have increased steadily every month for the past few years, by conducting a linear analysis on the sales data with monthly sales, the company could forecast sales in future months"
      ]
    },
    {
      "cell_type": "markdown",
      "metadata": {
        "id": "gF7mJ9Vylizn"
      },
      "source": [
        "#**Use case of Linear Regression**\n",
        "\n",
        "Linear regressions can be used in business to evaluate trends and make estimates or forecasts. ... Linear regression can also be used to analyze the marketing effectiveness, pricing and promotions on sales of a product."
      ]
    },
    {
      "cell_type": "markdown",
      "metadata": {
        "id": "5WVBNCbqlum4"
      },
      "source": [
        "#**Import Lib**"
      ]
    },
    {
      "cell_type": "code",
      "metadata": {
        "id": "onlGi2NZl1vZ"
      },
      "source": [
        "%matplotlib inline  \n",
        "import pandas as pd    \n",
        "import numpy as np    \n",
        "from pandas import DataFrame\n",
        "import matplotlib.pyplot as plt\n",
        "import seaborn as sns    "
      ],
      "execution_count": 26,
      "outputs": []
    },
    {
      "cell_type": "markdown",
      "metadata": {
        "id": "s38MQbfumn1P"
      },
      "source": [
        "#Import the Data set\n",
        "\n",
        "\n",
        "---\n",
        "**Using House Data set**\n"
      ]
    },
    {
      "cell_type": "code",
      "metadata": {
        "id": "wfF6auWDUxpN"
      },
      "source": [
        "data = pd.read_csv(\"/content/kc_house_data.csv\")\n"
      ],
      "execution_count": 27,
      "outputs": []
    },
    {
      "cell_type": "code",
      "metadata": {
        "colab": {
          "base_uri": "https://localhost:8080/",
          "height": 439
        },
        "id": "_Xyd-Rksm-gz",
        "outputId": "392d18cd-e2fe-4f10-a235-ce8622b5db8a"
      },
      "source": [
        "data"
      ],
      "execution_count": 28,
      "outputs": [
        {
          "output_type": "execute_result",
          "data": {
            "text/html": [
              "<div>\n",
              "<style scoped>\n",
              "    .dataframe tbody tr th:only-of-type {\n",
              "        vertical-align: middle;\n",
              "    }\n",
              "\n",
              "    .dataframe tbody tr th {\n",
              "        vertical-align: top;\n",
              "    }\n",
              "\n",
              "    .dataframe thead th {\n",
              "        text-align: right;\n",
              "    }\n",
              "</style>\n",
              "<table border=\"1\" class=\"dataframe\">\n",
              "  <thead>\n",
              "    <tr style=\"text-align: right;\">\n",
              "      <th></th>\n",
              "      <th>id</th>\n",
              "      <th>date</th>\n",
              "      <th>price</th>\n",
              "      <th>bedrooms</th>\n",
              "      <th>bathrooms</th>\n",
              "      <th>sqft_living</th>\n",
              "      <th>sqft_lot</th>\n",
              "      <th>floors</th>\n",
              "      <th>waterfront</th>\n",
              "      <th>view</th>\n",
              "      <th>condition</th>\n",
              "      <th>grade</th>\n",
              "      <th>sqft_above</th>\n",
              "      <th>sqft_basement</th>\n",
              "      <th>yr_built</th>\n",
              "      <th>yr_renovated</th>\n",
              "      <th>zipcode</th>\n",
              "      <th>lat</th>\n",
              "      <th>long</th>\n",
              "      <th>sqft_living15</th>\n",
              "      <th>sqft_lot15</th>\n",
              "    </tr>\n",
              "  </thead>\n",
              "  <tbody>\n",
              "    <tr>\n",
              "      <th>0</th>\n",
              "      <td>7129300520</td>\n",
              "      <td>20141013T000000</td>\n",
              "      <td>221900.0</td>\n",
              "      <td>3</td>\n",
              "      <td>1.00</td>\n",
              "      <td>1180</td>\n",
              "      <td>5650</td>\n",
              "      <td>1.0</td>\n",
              "      <td>0</td>\n",
              "      <td>0</td>\n",
              "      <td>3</td>\n",
              "      <td>7</td>\n",
              "      <td>1180.0</td>\n",
              "      <td>0</td>\n",
              "      <td>1955</td>\n",
              "      <td>0</td>\n",
              "      <td>98178</td>\n",
              "      <td>47.5112</td>\n",
              "      <td>-122.257</td>\n",
              "      <td>1340</td>\n",
              "      <td>5650</td>\n",
              "    </tr>\n",
              "    <tr>\n",
              "      <th>1</th>\n",
              "      <td>6414100192</td>\n",
              "      <td>20141209T000000</td>\n",
              "      <td>538000.0</td>\n",
              "      <td>3</td>\n",
              "      <td>2.25</td>\n",
              "      <td>2570</td>\n",
              "      <td>7242</td>\n",
              "      <td>2.0</td>\n",
              "      <td>0</td>\n",
              "      <td>0</td>\n",
              "      <td>3</td>\n",
              "      <td>7</td>\n",
              "      <td>2170.0</td>\n",
              "      <td>400</td>\n",
              "      <td>1951</td>\n",
              "      <td>1991</td>\n",
              "      <td>98125</td>\n",
              "      <td>47.7210</td>\n",
              "      <td>-122.319</td>\n",
              "      <td>1690</td>\n",
              "      <td>7639</td>\n",
              "    </tr>\n",
              "    <tr>\n",
              "      <th>2</th>\n",
              "      <td>5631500400</td>\n",
              "      <td>20150225T000000</td>\n",
              "      <td>180000.0</td>\n",
              "      <td>2</td>\n",
              "      <td>1.00</td>\n",
              "      <td>770</td>\n",
              "      <td>10000</td>\n",
              "      <td>1.0</td>\n",
              "      <td>0</td>\n",
              "      <td>0</td>\n",
              "      <td>3</td>\n",
              "      <td>6</td>\n",
              "      <td>770.0</td>\n",
              "      <td>0</td>\n",
              "      <td>1933</td>\n",
              "      <td>0</td>\n",
              "      <td>98028</td>\n",
              "      <td>47.7379</td>\n",
              "      <td>-122.233</td>\n",
              "      <td>2720</td>\n",
              "      <td>8062</td>\n",
              "    </tr>\n",
              "    <tr>\n",
              "      <th>3</th>\n",
              "      <td>2487200875</td>\n",
              "      <td>20141209T000000</td>\n",
              "      <td>604000.0</td>\n",
              "      <td>4</td>\n",
              "      <td>3.00</td>\n",
              "      <td>1960</td>\n",
              "      <td>5000</td>\n",
              "      <td>1.0</td>\n",
              "      <td>0</td>\n",
              "      <td>0</td>\n",
              "      <td>5</td>\n",
              "      <td>7</td>\n",
              "      <td>1050.0</td>\n",
              "      <td>910</td>\n",
              "      <td>1965</td>\n",
              "      <td>0</td>\n",
              "      <td>98136</td>\n",
              "      <td>47.5208</td>\n",
              "      <td>-122.393</td>\n",
              "      <td>1360</td>\n",
              "      <td>5000</td>\n",
              "    </tr>\n",
              "    <tr>\n",
              "      <th>4</th>\n",
              "      <td>1954400510</td>\n",
              "      <td>20150218T000000</td>\n",
              "      <td>510000.0</td>\n",
              "      <td>3</td>\n",
              "      <td>2.00</td>\n",
              "      <td>1680</td>\n",
              "      <td>8080</td>\n",
              "      <td>1.0</td>\n",
              "      <td>0</td>\n",
              "      <td>0</td>\n",
              "      <td>3</td>\n",
              "      <td>8</td>\n",
              "      <td>1680.0</td>\n",
              "      <td>0</td>\n",
              "      <td>1987</td>\n",
              "      <td>0</td>\n",
              "      <td>98074</td>\n",
              "      <td>47.6168</td>\n",
              "      <td>-122.045</td>\n",
              "      <td>1800</td>\n",
              "      <td>7503</td>\n",
              "    </tr>\n",
              "    <tr>\n",
              "      <th>...</th>\n",
              "      <td>...</td>\n",
              "      <td>...</td>\n",
              "      <td>...</td>\n",
              "      <td>...</td>\n",
              "      <td>...</td>\n",
              "      <td>...</td>\n",
              "      <td>...</td>\n",
              "      <td>...</td>\n",
              "      <td>...</td>\n",
              "      <td>...</td>\n",
              "      <td>...</td>\n",
              "      <td>...</td>\n",
              "      <td>...</td>\n",
              "      <td>...</td>\n",
              "      <td>...</td>\n",
              "      <td>...</td>\n",
              "      <td>...</td>\n",
              "      <td>...</td>\n",
              "      <td>...</td>\n",
              "      <td>...</td>\n",
              "      <td>...</td>\n",
              "    </tr>\n",
              "    <tr>\n",
              "      <th>21608</th>\n",
              "      <td>263000018</td>\n",
              "      <td>20140521T000000</td>\n",
              "      <td>360000.0</td>\n",
              "      <td>3</td>\n",
              "      <td>2.50</td>\n",
              "      <td>1530</td>\n",
              "      <td>1131</td>\n",
              "      <td>3.0</td>\n",
              "      <td>0</td>\n",
              "      <td>0</td>\n",
              "      <td>3</td>\n",
              "      <td>8</td>\n",
              "      <td>1530.0</td>\n",
              "      <td>0</td>\n",
              "      <td>2009</td>\n",
              "      <td>0</td>\n",
              "      <td>98103</td>\n",
              "      <td>47.6993</td>\n",
              "      <td>-122.346</td>\n",
              "      <td>1530</td>\n",
              "      <td>1509</td>\n",
              "    </tr>\n",
              "    <tr>\n",
              "      <th>21609</th>\n",
              "      <td>6600060120</td>\n",
              "      <td>20150223T000000</td>\n",
              "      <td>400000.0</td>\n",
              "      <td>4</td>\n",
              "      <td>2.50</td>\n",
              "      <td>2310</td>\n",
              "      <td>5813</td>\n",
              "      <td>2.0</td>\n",
              "      <td>0</td>\n",
              "      <td>0</td>\n",
              "      <td>3</td>\n",
              "      <td>8</td>\n",
              "      <td>2310.0</td>\n",
              "      <td>0</td>\n",
              "      <td>2014</td>\n",
              "      <td>0</td>\n",
              "      <td>98146</td>\n",
              "      <td>47.5107</td>\n",
              "      <td>-122.362</td>\n",
              "      <td>1830</td>\n",
              "      <td>7200</td>\n",
              "    </tr>\n",
              "    <tr>\n",
              "      <th>21610</th>\n",
              "      <td>1523300141</td>\n",
              "      <td>20140623T000000</td>\n",
              "      <td>402101.0</td>\n",
              "      <td>2</td>\n",
              "      <td>0.75</td>\n",
              "      <td>1020</td>\n",
              "      <td>1350</td>\n",
              "      <td>2.0</td>\n",
              "      <td>0</td>\n",
              "      <td>0</td>\n",
              "      <td>3</td>\n",
              "      <td>7</td>\n",
              "      <td>1020.0</td>\n",
              "      <td>0</td>\n",
              "      <td>2009</td>\n",
              "      <td>0</td>\n",
              "      <td>98144</td>\n",
              "      <td>47.5944</td>\n",
              "      <td>-122.299</td>\n",
              "      <td>1020</td>\n",
              "      <td>2007</td>\n",
              "    </tr>\n",
              "    <tr>\n",
              "      <th>21611</th>\n",
              "      <td>291310100</td>\n",
              "      <td>20150116T000000</td>\n",
              "      <td>400000.0</td>\n",
              "      <td>3</td>\n",
              "      <td>2.50</td>\n",
              "      <td>1600</td>\n",
              "      <td>2388</td>\n",
              "      <td>2.0</td>\n",
              "      <td>0</td>\n",
              "      <td>0</td>\n",
              "      <td>3</td>\n",
              "      <td>8</td>\n",
              "      <td>1600.0</td>\n",
              "      <td>0</td>\n",
              "      <td>2004</td>\n",
              "      <td>0</td>\n",
              "      <td>98027</td>\n",
              "      <td>47.5345</td>\n",
              "      <td>-122.069</td>\n",
              "      <td>1410</td>\n",
              "      <td>1287</td>\n",
              "    </tr>\n",
              "    <tr>\n",
              "      <th>21612</th>\n",
              "      <td>1523300157</td>\n",
              "      <td>20141015T000000</td>\n",
              "      <td>325000.0</td>\n",
              "      <td>2</td>\n",
              "      <td>0.75</td>\n",
              "      <td>1020</td>\n",
              "      <td>1076</td>\n",
              "      <td>2.0</td>\n",
              "      <td>0</td>\n",
              "      <td>0</td>\n",
              "      <td>3</td>\n",
              "      <td>7</td>\n",
              "      <td>1020.0</td>\n",
              "      <td>0</td>\n",
              "      <td>2008</td>\n",
              "      <td>0</td>\n",
              "      <td>98144</td>\n",
              "      <td>47.5941</td>\n",
              "      <td>-122.299</td>\n",
              "      <td>1020</td>\n",
              "      <td>1357</td>\n",
              "    </tr>\n",
              "  </tbody>\n",
              "</table>\n",
              "<p>21613 rows × 21 columns</p>\n",
              "</div>"
            ],
            "text/plain": [
              "               id             date  ...  sqft_living15  sqft_lot15\n",
              "0      7129300520  20141013T000000  ...           1340        5650\n",
              "1      6414100192  20141209T000000  ...           1690        7639\n",
              "2      5631500400  20150225T000000  ...           2720        8062\n",
              "3      2487200875  20141209T000000  ...           1360        5000\n",
              "4      1954400510  20150218T000000  ...           1800        7503\n",
              "...           ...              ...  ...            ...         ...\n",
              "21608   263000018  20140521T000000  ...           1530        1509\n",
              "21609  6600060120  20150223T000000  ...           1830        7200\n",
              "21610  1523300141  20140623T000000  ...           1020        2007\n",
              "21611   291310100  20150116T000000  ...           1410        1287\n",
              "21612  1523300157  20141015T000000  ...           1020        1357\n",
              "\n",
              "[21613 rows x 21 columns]"
            ]
          },
          "metadata": {
            "tags": []
          },
          "execution_count": 28
        }
      ]
    },
    {
      "cell_type": "markdown",
      "metadata": {
        "id": "NgcnO_7anTeN"
      },
      "source": [
        "#Find Shape"
      ]
    },
    {
      "cell_type": "code",
      "metadata": {
        "colab": {
          "base_uri": "https://localhost:8080/"
        },
        "id": "SFBmMvLWnCE_",
        "outputId": "4850f9f4-bf9d-456e-c4d5-6be6197cdcbe"
      },
      "source": [
        "data.shape"
      ],
      "execution_count": 29,
      "outputs": [
        {
          "output_type": "execute_result",
          "data": {
            "text/plain": [
              "(21613, 21)"
            ]
          },
          "metadata": {
            "tags": []
          },
          "execution_count": 29
        }
      ]
    },
    {
      "cell_type": "markdown",
      "metadata": {
        "id": "IsQyPgjmoz11"
      },
      "source": [
        "#  Describe function is magic command, calculate all mean standar div. percetage etc"
      ]
    },
    {
      "cell_type": "code",
      "metadata": {
        "colab": {
          "base_uri": "https://localhost:8080/",
          "height": 317
        },
        "id": "Q0pxNqc-XGWM",
        "outputId": "b80482fe-ca67-4085-81dc-c292b8d5c4ff"
      },
      "source": [
        "df=data.describe()\n",
        "df"
      ],
      "execution_count": 35,
      "outputs": [
        {
          "output_type": "execute_result",
          "data": {
            "text/html": [
              "<div>\n",
              "<style scoped>\n",
              "    .dataframe tbody tr th:only-of-type {\n",
              "        vertical-align: middle;\n",
              "    }\n",
              "\n",
              "    .dataframe tbody tr th {\n",
              "        vertical-align: top;\n",
              "    }\n",
              "\n",
              "    .dataframe thead th {\n",
              "        text-align: right;\n",
              "    }\n",
              "</style>\n",
              "<table border=\"1\" class=\"dataframe\">\n",
              "  <thead>\n",
              "    <tr style=\"text-align: right;\">\n",
              "      <th></th>\n",
              "      <th>id</th>\n",
              "      <th>price</th>\n",
              "      <th>bedrooms</th>\n",
              "      <th>bathrooms</th>\n",
              "      <th>sqft_living</th>\n",
              "      <th>sqft_lot</th>\n",
              "      <th>floors</th>\n",
              "      <th>waterfront</th>\n",
              "      <th>view</th>\n",
              "      <th>condition</th>\n",
              "      <th>grade</th>\n",
              "      <th>sqft_above</th>\n",
              "      <th>sqft_basement</th>\n",
              "      <th>yr_built</th>\n",
              "      <th>yr_renovated</th>\n",
              "      <th>zipcode</th>\n",
              "      <th>lat</th>\n",
              "      <th>long</th>\n",
              "      <th>sqft_living15</th>\n",
              "      <th>sqft_lot15</th>\n",
              "    </tr>\n",
              "  </thead>\n",
              "  <tbody>\n",
              "    <tr>\n",
              "      <th>count</th>\n",
              "      <td>2.161300e+04</td>\n",
              "      <td>2.161300e+04</td>\n",
              "      <td>21613.000000</td>\n",
              "      <td>21613.000000</td>\n",
              "      <td>21613.000000</td>\n",
              "      <td>2.161300e+04</td>\n",
              "      <td>21613.000000</td>\n",
              "      <td>21613.000000</td>\n",
              "      <td>21613.000000</td>\n",
              "      <td>21613.000000</td>\n",
              "      <td>21613.000000</td>\n",
              "      <td>21611.000000</td>\n",
              "      <td>21613.000000</td>\n",
              "      <td>21613.000000</td>\n",
              "      <td>21613.000000</td>\n",
              "      <td>21613.000000</td>\n",
              "      <td>21613.000000</td>\n",
              "      <td>21613.000000</td>\n",
              "      <td>21613.000000</td>\n",
              "      <td>21613.000000</td>\n",
              "    </tr>\n",
              "    <tr>\n",
              "      <th>mean</th>\n",
              "      <td>4.580302e+09</td>\n",
              "      <td>5.400881e+05</td>\n",
              "      <td>3.370842</td>\n",
              "      <td>2.114757</td>\n",
              "      <td>2079.899736</td>\n",
              "      <td>1.510697e+04</td>\n",
              "      <td>1.494309</td>\n",
              "      <td>0.007542</td>\n",
              "      <td>0.234303</td>\n",
              "      <td>3.409430</td>\n",
              "      <td>7.656873</td>\n",
              "      <td>1788.396095</td>\n",
              "      <td>291.509045</td>\n",
              "      <td>1971.005136</td>\n",
              "      <td>84.402258</td>\n",
              "      <td>98077.939805</td>\n",
              "      <td>47.560053</td>\n",
              "      <td>-122.213896</td>\n",
              "      <td>1986.552492</td>\n",
              "      <td>12768.455652</td>\n",
              "    </tr>\n",
              "    <tr>\n",
              "      <th>std</th>\n",
              "      <td>2.876566e+09</td>\n",
              "      <td>3.671272e+05</td>\n",
              "      <td>0.930062</td>\n",
              "      <td>0.770163</td>\n",
              "      <td>918.440897</td>\n",
              "      <td>4.142051e+04</td>\n",
              "      <td>0.539989</td>\n",
              "      <td>0.086517</td>\n",
              "      <td>0.766318</td>\n",
              "      <td>0.650743</td>\n",
              "      <td>1.175459</td>\n",
              "      <td>828.128162</td>\n",
              "      <td>442.575043</td>\n",
              "      <td>29.373411</td>\n",
              "      <td>401.679240</td>\n",
              "      <td>53.505026</td>\n",
              "      <td>0.138564</td>\n",
              "      <td>0.140828</td>\n",
              "      <td>685.391304</td>\n",
              "      <td>27304.179631</td>\n",
              "    </tr>\n",
              "    <tr>\n",
              "      <th>min</th>\n",
              "      <td>1.000102e+06</td>\n",
              "      <td>7.500000e+04</td>\n",
              "      <td>0.000000</td>\n",
              "      <td>0.000000</td>\n",
              "      <td>290.000000</td>\n",
              "      <td>5.200000e+02</td>\n",
              "      <td>1.000000</td>\n",
              "      <td>0.000000</td>\n",
              "      <td>0.000000</td>\n",
              "      <td>1.000000</td>\n",
              "      <td>1.000000</td>\n",
              "      <td>290.000000</td>\n",
              "      <td>0.000000</td>\n",
              "      <td>1900.000000</td>\n",
              "      <td>0.000000</td>\n",
              "      <td>98001.000000</td>\n",
              "      <td>47.155900</td>\n",
              "      <td>-122.519000</td>\n",
              "      <td>399.000000</td>\n",
              "      <td>651.000000</td>\n",
              "    </tr>\n",
              "    <tr>\n",
              "      <th>25%</th>\n",
              "      <td>2.123049e+09</td>\n",
              "      <td>3.219500e+05</td>\n",
              "      <td>3.000000</td>\n",
              "      <td>1.750000</td>\n",
              "      <td>1427.000000</td>\n",
              "      <td>5.040000e+03</td>\n",
              "      <td>1.000000</td>\n",
              "      <td>0.000000</td>\n",
              "      <td>0.000000</td>\n",
              "      <td>3.000000</td>\n",
              "      <td>7.000000</td>\n",
              "      <td>1190.000000</td>\n",
              "      <td>0.000000</td>\n",
              "      <td>1951.000000</td>\n",
              "      <td>0.000000</td>\n",
              "      <td>98033.000000</td>\n",
              "      <td>47.471000</td>\n",
              "      <td>-122.328000</td>\n",
              "      <td>1490.000000</td>\n",
              "      <td>5100.000000</td>\n",
              "    </tr>\n",
              "    <tr>\n",
              "      <th>50%</th>\n",
              "      <td>3.904930e+09</td>\n",
              "      <td>4.500000e+05</td>\n",
              "      <td>3.000000</td>\n",
              "      <td>2.250000</td>\n",
              "      <td>1910.000000</td>\n",
              "      <td>7.618000e+03</td>\n",
              "      <td>1.500000</td>\n",
              "      <td>0.000000</td>\n",
              "      <td>0.000000</td>\n",
              "      <td>3.000000</td>\n",
              "      <td>7.000000</td>\n",
              "      <td>1560.000000</td>\n",
              "      <td>0.000000</td>\n",
              "      <td>1975.000000</td>\n",
              "      <td>0.000000</td>\n",
              "      <td>98065.000000</td>\n",
              "      <td>47.571800</td>\n",
              "      <td>-122.230000</td>\n",
              "      <td>1840.000000</td>\n",
              "      <td>7620.000000</td>\n",
              "    </tr>\n",
              "    <tr>\n",
              "      <th>75%</th>\n",
              "      <td>7.308900e+09</td>\n",
              "      <td>6.450000e+05</td>\n",
              "      <td>4.000000</td>\n",
              "      <td>2.500000</td>\n",
              "      <td>2550.000000</td>\n",
              "      <td>1.068800e+04</td>\n",
              "      <td>2.000000</td>\n",
              "      <td>0.000000</td>\n",
              "      <td>0.000000</td>\n",
              "      <td>4.000000</td>\n",
              "      <td>8.000000</td>\n",
              "      <td>2210.000000</td>\n",
              "      <td>560.000000</td>\n",
              "      <td>1997.000000</td>\n",
              "      <td>0.000000</td>\n",
              "      <td>98118.000000</td>\n",
              "      <td>47.678000</td>\n",
              "      <td>-122.125000</td>\n",
              "      <td>2360.000000</td>\n",
              "      <td>10083.000000</td>\n",
              "    </tr>\n",
              "    <tr>\n",
              "      <th>max</th>\n",
              "      <td>9.900000e+09</td>\n",
              "      <td>7.700000e+06</td>\n",
              "      <td>33.000000</td>\n",
              "      <td>8.000000</td>\n",
              "      <td>13540.000000</td>\n",
              "      <td>1.651359e+06</td>\n",
              "      <td>3.500000</td>\n",
              "      <td>1.000000</td>\n",
              "      <td>4.000000</td>\n",
              "      <td>5.000000</td>\n",
              "      <td>13.000000</td>\n",
              "      <td>9410.000000</td>\n",
              "      <td>4820.000000</td>\n",
              "      <td>2015.000000</td>\n",
              "      <td>2015.000000</td>\n",
              "      <td>98199.000000</td>\n",
              "      <td>47.777600</td>\n",
              "      <td>-121.315000</td>\n",
              "      <td>6210.000000</td>\n",
              "      <td>871200.000000</td>\n",
              "    </tr>\n",
              "  </tbody>\n",
              "</table>\n",
              "</div>"
            ],
            "text/plain": [
              "                 id         price  ...  sqft_living15     sqft_lot15\n",
              "count  2.161300e+04  2.161300e+04  ...   21613.000000   21613.000000\n",
              "mean   4.580302e+09  5.400881e+05  ...    1986.552492   12768.455652\n",
              "std    2.876566e+09  3.671272e+05  ...     685.391304   27304.179631\n",
              "min    1.000102e+06  7.500000e+04  ...     399.000000     651.000000\n",
              "25%    2.123049e+09  3.219500e+05  ...    1490.000000    5100.000000\n",
              "50%    3.904930e+09  4.500000e+05  ...    1840.000000    7620.000000\n",
              "75%    7.308900e+09  6.450000e+05  ...    2360.000000   10083.000000\n",
              "max    9.900000e+09  7.700000e+06  ...    6210.000000  871200.000000\n",
              "\n",
              "[8 rows x 20 columns]"
            ]
          },
          "metadata": {
            "tags": []
          },
          "execution_count": 35
        }
      ]
    },
    {
      "cell_type": "markdown",
      "metadata": {
        "id": "qvCZCkNnpm6g"
      },
      "source": [
        "#[1:100] 1 to 100 data['price']\n",
        "\n",
        "yaxis=2.00 is 2lac\n",
        "\n",
        "xaxis=index no range\n",
        "\n",
        "x and y find the middle avrage of regression \n",
        "\n",
        "#Find the regression on both \n",
        "\n",
        "first is price\n",
        "\n",
        "scond is sqft_living >> squree feet"
      ]
    },
    {
      "cell_type": "code",
      "metadata": {
        "colab": {
          "base_uri": "https://localhost:8080/",
          "height": 361
        },
        "id": "FjircqkiYwWb",
        "outputId": "32d40793-69a1-4003-ec8b-63b9ab096d61"
      },
      "source": [
        "sns.distplot(data['price'][1:100])"
      ],
      "execution_count": 38,
      "outputs": [
        {
          "output_type": "stream",
          "text": [
            "/usr/local/lib/python3.7/dist-packages/seaborn/distributions.py:2557: FutureWarning: `distplot` is a deprecated function and will be removed in a future version. Please adapt your code to use either `displot` (a figure-level function with similar flexibility) or `histplot` (an axes-level function for histograms).\n",
            "  warnings.warn(msg, FutureWarning)\n"
          ],
          "name": "stderr"
        },
        {
          "output_type": "execute_result",
          "data": {
            "text/plain": [
              "<matplotlib.axes._subplots.AxesSubplot at 0x7f026388a610>"
            ]
          },
          "metadata": {
            "tags": []
          },
          "execution_count": 38
        },
        {
          "output_type": "display_data",
          "data": {
            "image/png": "[encoded data removed]",
            "text/plain": [
              "<Figure size 432x288 with 1 Axes>"
            ]
          },
          "metadata": {
            "tags": [],
            "needs_background": "light"
          }
        }
      ]
    },
    {
      "cell_type": "code",
      "metadata": {
        "colab": {
          "base_uri": "https://localhost:8080/",
          "height": 354
        },
        "id": "ZoZNBIjzpHw8",
        "outputId": "dae2324e-74c7-4a77-9c34-929a03fd120f"
      },
      "source": [
        "sns.distplot(data['sqft_living'][1:100])"
      ],
      "execution_count": 40,
      "outputs": [
        {
          "output_type": "stream",
          "text": [
            "/usr/local/lib/python3.7/dist-packages/seaborn/distributions.py:2557: FutureWarning: `distplot` is a deprecated function and will be removed in a future version. Please adapt your code to use either `displot` (a figure-level function with similar flexibility) or `histplot` (an axes-level function for histograms).\n",
            "  warnings.warn(msg, FutureWarning)\n"
          ],
          "name": "stderr"
        },
        {
          "output_type": "execute_result",
          "data": {
            "text/plain": [
              "<matplotlib.axes._subplots.AxesSubplot at 0x7f0263990450>"
            ]
          },
          "metadata": {
            "tags": []
          },
          "execution_count": 40
        },
        {
          "output_type": "display_data",
          "data": {
            "image/png": "[encoded data removed]",
            "text/plain": [
              "<Figure size 432x288 with 1 Axes>"
            ]
          },
          "metadata": {
            "tags": [],
            "needs_background": "light"
          }
        }
      ]
    },
    {
      "cell_type": "markdown",
      "metadata": {
        "id": "5JB4-q6trtVa"
      },
      "source": [
        "#Regression Formulas\n",
        "\n",
        "\n",
        "---\n",
        "\n",
        "\n",
        "> find the mean x and y\n",
        "\n",
        "> calculating cross-deviation and deviation about x     \n",
        "\n",
        "    SS_xy = np.sum(y*x) - n*mean y*mean x     \n",
        "    SS_xx = np.sum(x*x) - n*mean x*mean y     \n",
        "\n",
        "> calculating regression coefficients     \n",
        "\n",
        "    b_1 = SS_xy / SS_xx     \n",
        "    b_0 = m_y - b_1*m_x     \n",
        "    \n",
        "    "
      ]
    },
    {
      "cell_type": "markdown",
      "metadata": {
        "id": "SmMrR3RNw8GP"
      },
      "source": [
        "![WhatsApp Image 2021-06-30 at 2.47.29 PM.jpeg](data:image/jpeg;base64,/9j/4AAQSkZJRgABAQAAAQABAAD/2wBDAAMCAgICAgMCAgIDAwMDBAYEBAQEBAgGBgUGCQgKCgkICQkKDA8MCgsOCwkJDRENDg8QEBEQCgwSExIQEw8QEBD/2wBDAQMDAwQDBAgEBAgQCwkLEBAQEBAQEBAQEBAQEBAQEBAQEBAQEBAQEBAQEBAQEBAQEBAQEBAQEBAQEBAQEBAQEBD/wAARCAFUAbsDASIAAhEBAxEB/8QAHQABAQEBAQEBAQEBAAAAAAAAAAcIBgUECQMCAf/EAFMQAAEDBAECAgMKCgYHBwMFAAECAwQABQYHEQgSEyEYIjEJFBdBVFeUldHVFSMyNlFWWHSXsRZCYXGW0xkkgZGmp9RDUlliaKHkJSkzY3eCo8H/xAAZAQEBAQEBAQAAAAAAAAAAAAAABAYFAgP/xAAuEQEAAQIBCwQCAwEBAAAAAAAAAQIEAwYTFDQ1UlORkrHREXJzsgUxEiFBcVH/2gAMAwEAAhEDEQA/AN9zshl7otLePWLHLhDtUiQ2bjcJoShCENrCihsBR71EgD+z4/0j2bhoDSt3kmZddYY9NkEBJdkQkuLIHsHcrk8V/LRH5hj99f8A5iqJX3uMPMY1eFE/1EzHKXL/AA15P5T8dbfkMSmIqxMOmr/n8qYmYj/fRNvRt0F80GK/Vrf2U9G3QXzQYr9Wt/ZVJpXwdRNvRt0F80GK/Vrf2U9G3QXzQYr9Wt/ZVJpQTb0bdBfNBiv1a39lPRt0F80GK/Vrf2VSaUE29G3QXzQYr9Wt/ZT0bdBfNBiv1a39lenuzZ8LS+pMs2tcLc5PYxe1P3ExW1dqn1IT6rfd59vcrgc8HjnmpFp21793FqWwbhuHUlNs16yy3sXuHZ7JYbU7j0JLqErajLS/GcmvIA8nSJaFqJX2Kb4TwFK9G3QXzQYr9Wt/ZT0bdBfNBiv1a39lSvAuoHbGK9M+w989QNss0i74pPvLbdqx5pTEMt29wxUpbU4pbn415pxRUtSuAseQ47R9WnbXv3cWpbBuG4dSU2zXrLLexe4dnslhtTuPQkuoStqMtL8Zya8gDydIloWolfYpvhPAUr0bdBfNBiv1a39lPRt0F80GK/Vrf2V4PSrmW5s+wG75HvFFhj35GR3K1NRLEwtuEyzCeMUlvxFLcV3uMur5WtXkocdv5Is9BNvRt0F80GK/Vrf2U9G3QXzQYr9Wt/ZVJpQTb0bdBfNBiv1a39lPRt0F80GK/Vrf2VSaUE29G3QXzQYr9Wt/ZT0bdBfNBiv1a39lUmlBNvRt0F80GK/Vrf2U9G3QXzQYr9Wt/ZVJpQTb0bdBfNBiv1a39lPRt0F80GK/Vrf2VSaUE29G3QXzQYr9Wt/ZT0bdBfNBiv1a39lUmlBNvRt0F80GK/Vrf2V/GzQZWnZE+0WfC5s/GpkgSoKLOyla4ZKEpUyWuRwkBKe0jyAH+6n0oJYdbWnat8k5Ts/Bob0EMNxrba7m0h5aAkqJeWnzCVkqUAPaASP7/q9G3QXzQYr9Wt/ZVJpQTb0bdBfNBiv1a39lPRt0F80GK/Vrf2VSaUE29G3QXzQYr9Wt/ZT0bdBfNBiv1a39lUmlBNvRt0F80GK/Vrf2U9G3QXzQYr9Wt/ZVJpQTb0bdBfNBiv1a39lPRt0F80GK/Vrf2VSaUE29G3QXzQYr9Wt/ZT0bdBfNBiv1a39lUmlBNvRt0F80GK/Vrf2U9G3QXzQYr9Wt/ZVJpQTb0bdBfNBiv1a39lPRt0F80GK/Vrf2VSaUE29G3QXzQYr9Wt/ZT0bdBfNBiv1a39lUmlBNvRt0F80GK/Vrf2U9G3QXzQYr9Wt/ZVJpQTb0bdBfNBiv1a39lPRt0F80GK/Vrf2VSaUE29G3QXzQYr9Wt/ZT0bdBfNBiv1a39lUmlBNvRt0F80GK/Vrf2U9G3QXzQYr9Wt/ZVJpQSu79NuovwZKGK69x6zXbwle9J0aChtxlzjy9ZI5APmk8fETXrM7FyWG0iLd9Z5Eua0kIfXEaQ6ypY9qkKB8wfb/7V31KCd6I/MMfvr/8xVEqd6I/MMfvr/8AMVRKrv8AWsX3Vd5Z/JPYFj8OF9KSlKVI0BSlKBSlKDns2xvEdg47d9aZc1HmwMhtr8Wbb1Pdrj0RY8NwgAhQHrAdw9hI8+eK/PnA812P7mVt216L2bNk5F0/5hPWnFsjfH46xvOK5U04R5BKVK5cRwAQS83xw42dHZ3mW58J6rlZkxqHJsj1TCxNmy3K5Whht+TDnOyfGL7MMKEmY2lJaDgjtuEefAUpCkVxnVfYrx1sWHG9Ha3wjL4NqGQQ7zkWUZJjM6xxbZDZDoKGUXBpl6VIXzwEsoUlPIK1oB5oNSZRiGB5pil21dfYMB605Hb5Tcy2tLS0X475IecAQQRypwkrH9ZXPPJrAGB5rsf3Mrbtr0Xs2bJyLp/zCetOLZG+Px1jecVyppwjyCUqVy4jgAgl5vjhxs6JzDKdxa96pG8nhahyfItS2rD49gn3K0styJUOauQHfGZidwkzEJR4SXPe7bhHrcBSkKRXI9V9ivHWxYcb0drfCMvg2oZBDvORZRkmMzrHFtkNkOgoZRcGmXpUhfPASyhSU8grWgHmg2JBiQYUcM22MwwwpS3ghhCUoKlqK1K4HlypSlKJ+Mkn46+iuevuYYJryLaYeW5hZLA3cH2rXbPwrcWYplyCOEMNeIoeI4ePJKeVH9FfBfdx6ixf8J/0m2piFo/AkhiHc/f18ix/eL7ySplp7vWPCWtIKkpVwVAEgEUHYUr4E5BYV3VqxIvcBVykRDPahiSgvuRgoJLyW+e4thSkjvA45IHPnX30ClKUClKUClKUClKUClKUClKUClKUClKUClKUClKUClKUClKUClKUClKUClKUClKUClKUClKUClKUClKUE70R+YY/fX/5is5dS+E2baPWto/XUZd2lu2517PMhYevc16AzFggNxOIKnDGaWt7keIhCVnz5J5POjdEfmGP31/+YrKep9R2/qz6iN5boy++XVWBqmjXcG32+Y7DXdIkJCRJbVJZUl1EVTyu4oaUkuKHClFHehyu/wBaxfdV3ln8k9gWPw4X0pbwpWF+i/AmNKdYO+dI6ykXJvWFlh2q4sW1+U5IZt1yktoV4banCVclHiAkkqKW0BRJSDW6KkaApXjZbFzCZZHWMFvtntF3KkFqXdrS7cYyUhQ7gphqRHUokcgEOjg+fB9lcH/Rzqn+eTVX8NLj9+0FVpXEYZaN1wbqt7YewMJvdtLKkoj2XD5drfDvI4UXXrnJSUgd3KfDBJIPcOOD1l2u1qsFqm32+3OJbrbbo7kuZMlvJZYjMNpKnHXHFEJQhKQVFRIAAJNB9dKlXpY9LH7S2qv8ZW7/ADqelj0sftLaq/xlbv8AOoKrSpV6WPSx+0tqr/GVu/zqelj0sftLaq/xlbv86g/j1IW4bA15fdI2+y3OZeM0tEiNDfTbpXvCEoDykPTUNlllbaglaG1OJcWpKQke1Q5vFY6876Pbpjc7BbvisuTiEy3XCDdIDsZ0z1w1e+lhMjh1wF9TnLrg5dV3LClhQWrqvSx6WP2ltVf4yt3+dXFZft/pLzXKLbfrx1hYei2wYq4snHI+fWtFpuYU4lwKlNdxW4UqQngBaUlPchYUhakkOh6bLbdcjwLCNh5hjMi03SJiMKzW9iewW5rTJZZVJcdBJUguuMtkIV6wS0knhS1JFpqVelj0sftLaq/xlbv86u1wrYWA7KtTt91znGP5VbWJCojsyyXNmcw2+lKVKaU4ypSQsJWhRSTzwtJ+MUHQUpSgUpSgUpSgUpSgUpSgUpSgUpSgUpSgUpSgUpSgUpSgUpSgUpSgUpSgUpSgUpSgUpSgUpSgUpSgUpSgl2o49zlaqnRbLNah3B5cxuJIdbK0MvFPCFqSCCoBXBI5HPHtFSTp4x3evT/pe1aOteipV1yi3uSy9lEvIrejHJcp59by5i3Eum4hB7+ewQe7u9XkJ/Gi0aI/MMfvr/8AMVRKrv8AWsX3Vd5Z/JPYFj8OF9KWRM2wTYvS5qqLk2E7LiSMnyjPLRNzy9TLGh6Te3p1wjR3ER+5zw4bKG1qbSgtukNgBKkK5Wdd1Deryw57lmubXjevtdXjK5ysks90eTAmW+OmOxCnsSXO8zJLIJUhtSUBHd63Hd2j1qtNulPzrfGmSbdIt7z7KHHIklTanY6iAS2stqWgqSfI9ilJ5HkSPOpGgefluKWvNLI7j94lXiPFeUhanLTeZlqkgpUCO2RDdaeSOR5gLAI8jyPKuD9GnXX6x7V/ixlX3jVVpQcRhmn8TwO6rvNju+bSZC2VMFF6zm93hgJJBJDM2W60FeQ4UE9wHIB4J57elKBSuJ3Zs+FpfUmWbWuFucnsYvan7iYrau1T6kJ9Vvu8+3uVwOeDxzzUi07a9+7i1LYNw3DqSm2a9ZZb2L3Ds9ksNqdx6El1CVtRlpfjOTXkAeTpEtC1Er7FN8J4DSdKzFgXUDtjFemfYe+eoG2WaRd8Un3ltu1Y80piGW7e4YqUtqcUtz8a804oqWpXAWPIcdo+rTtr37uLUtg3DcOpKbZr1llvYvcOz2Sw2p3HoSXUJW1GWl+M5NeQB5OkS0LUSvsU3wngNJ0qMdKuZbmz7Abvke8UWGPfkZHcrU1EsTC24TLMJ4xSW/EUtxXe4y6vla1eShx2/kiz0ClKUClKUClKUClKUClKUClKUClKUClKUClKUClKUClKUClKUClKUClKUClKUClKUClKUClKUClKUClKUClKUE70R+YY/fX/AOYqiVO9EfmGP31/+YqiVXf61i+6rvLP5J7AsfhwvpSUpSpGgKUpQKUpQc9m2N4jsHHbvrTLmo82BkNtfizbep7tceiLHhuEAEKA9YDuHsJHnzxX584Hmux/cytu2vRezZsnIun/ADCetOLZG+Px1jecVyppwjyCUqVy4jgAgl5vjhxs6OzvMtz4T1XKzJjUOTZHqmFibNluVytDDb8mHOdk+MX2YYUJMxtKS0HBHbcI8+ApSFIrjOq+xXjrYsON6O1vhGXwbUMgh3nIsoyTGZ1ji2yGyHQUMouDTL0qQvngJZQpKeQVrQDzQakyjEMDzTFLtq6+wYD1pyO3ym5ltaWlovx3yQ84AggjlThJWP6yueeTWAMDzXY/uZW3bXovZs2TkXT/AJhPWnFsjfH46xvOK5U04R5BKVK5cRwAQS83xw42dE5hlO4te9UjeTwtQ5PkWpbVh8ewT7laWW5EqHNXIDvjMxO4SZiEo8JLnvdtwj1uApSFIrkeq+xXjrYsON6O1vhGXwbUMgh3nIsoyTGZ1ji2yGyHQUMouDTL0qQvngJZQpKeQVrQDzQbEgxIMKOGbbGYYYUpbwQwhKUFS1FalcDy5UpSlE/GST8dfRXPX3MME15FtMPLcwslgbuD7Vrtn4VuLMUy5BHCGGvEUPEcPHklPKj+ivjvW3dUY03eXsi2fiVqbxx1hi8qm3qMwLa48OWUSCtY8FTgI7Qvgq58uaDraV48bMcRm3/+isPKbQ/e/eKLn+DWpzSpXvNSu1Mjwgrv8Iq8gvjtJ8ua9igUpSgUpSgUpSgUpSgUpSgUpSgUpSgUpSgUpSgUpSgUpSgUpSgUpSgUpSgUpSgUpSgUpSgUpSgUpSgUpSgneiPzDH76/wDzFUSp3oj8wx++v/zFUSq7/WsX3Vd5Z/JPYFj8OF9KSlKVI0BSlKBSlKBSlKBSlKCSdSFuGwNeX3SNvstzmXjNLRIjQ3026V7whKA8pD01DZZZW2oJWhtTiXFqSkJHtUOe1xmEZ3p+x7HrtqLK4Nyvdv8AwJIsknHp6UvXFxj/AFsyXFNqUywp5bvdKk9qXD3rCnO5Kl3ylBBOjO0XTDNTNa0yDD7va71iMl+13K4zIb7TV2cZdW0zJaekevJSqM1HUFpKm0pKG0q9QoRe6UoFKUoFKUoFKUoFKUoFKUoFKUoFKUoFKUoFKUoFKUoFKUoFKUoFKUoFKUoFKUoFKUoFKUoFKUoFKUoFKUoJ3oj8wx++v/zFUSp3oj8wx++v/wAxWcupfCbNtHrW0frqMu7S3bc69nmQsPXua9AZiwQG4nEFThjNLW9yPEQhKz58k8nmu/1rF91XeWfyT2BY/DhfSltGlKVI0BSlKBSlKBSufzWFn0+1NM65ybH7HchISp2Re7G9dWFMdqu5CWmZcVSVlRQQsuEAJUO09wKeK/o51T/PJqr+Glx+/aCq0risKtO6IF1de2Nn+FXy2mOpLUeyYhLtT6X+5PatTr1ylJUgJCwUBsElST3DtIV2tApSlApXL7Qfx6HrrI7jlk6fDs0C2vzZz8C6SbdIbZZQXFFEmMtDzR4R7UKB+L4+Kz77mzgUjFum2Pml0iPs3TZF3m5dJ98yHJD/AIchfEcOPOkrcV4KEHuUSo9xJJJJoNVUpU/ymy79l32VIwrZev7VZV9nvaHdMHm3CU1whIX3yG7tHQvlYURw0nhJCT3EFRCgUqVf0c6p/nk1V/DS4/ftd/i0bKoliix81vNqut6R3++Zlrtjlviu8rUUdkdx+QtHCCkHl1XKgVDtBCQHrUpSgUpSgUpSgUpSgUpSgUpSgUpSgUpSgUpSgUpSgUpSgUpSgUpSgUpSgUpSgUpSgUpSgUpSgneiPzDH76//ADFZT1PqO39WfURvLdGX3y6qwNU0a7g2+3zHYa7pEhISJLapLKkuoiqeV3FDSklxQ4Uoo70Oaf1HHucrVU6LZZrUO4PLmNxJDrZWhl4p4QtSQQVAK4JHI549oqSdPGO716f9L2rR1r0VKuuUW9yWXsol5Fb0Y5LlPPreXMW4l03EIPfz2CD3d3q8hP40V3+tYvuq7yz+SewLH4cL6UuD6L8CY0p1g750jrKRcm9YWWHarixbX5Tkhm3XKS2hXhtqcJVyUeICSSopbQFElINborN9tx5/pYwqNbLXc2cs2ltvLUNS7xcWVNszbxJSpTshbTauURY0dlxSGErBKGgjvClldULVmx8ku2YZZqfYRtT2VYemFLcn2mI7Fh3KDMStTD7bDrrq2VJU080tBdcHLYUFcL7UyNAp1TzI7H1Byr3KfxHZ+vLbaFqBixLlgk6dJaT2jkLfbu7CXDzyeQ0jyIHB45NDqeZHonCcqvcrILnfNhsSpigtxu27GyG3xkkJA9SPGmtstjgDyQhI55PtJNB5v9HOqf55NVfw0uP37VJs7V3YtURm/wA6HNuSGUplyIcVUZh13j1lNtLccU2kn2JLiyB5dx9tTb0addfrHtX+LGVfeNUmz2qLY7VEs0J2Y5HhMpYbXMmPS31JSOAXHnlLddV+lS1KUT5kk0HnZphlmz2wPY3fpF5ZhvqSparTeplrkHj4vHiOtOhJ+NPd2keRBFZD9zTVHwjCNzanmXN0WXXOw7tAiOTJBPveFwFesv2JHKVqJB9pUTxzW2axF06adzed1BdQ6LnBba1jf83bnuSu8H8NvNIUXIKUlJ7o6HHeHld3ClNFnggugBaujrVNr1LqeTbMdk3s2C+X64X2yxbw74kmJBkOAtJUeBx3gF4AgEB7hXKgpRoucbRxrXr0Ri/2zLpSpqVrbNjw+7XpKQkgHxFQIzwaPmOAspJ8+OeDXWgAAAAADyAFf9oJV6S2uv1c2r/CfKvu6u0wrOrJn9ueutig5DFZYeLCk3vHbhZnioAHlLU5hlxSeCPWSkp55HPIIroaUGW/dFL5dpWioumsVklrJNu36Bh1uAPsQ86FSFq48+wNIUFcfEqod1vdIetNWdMru4YF+yVezdfMWlmxZIm7yW1s+HIbbaixoqV+BHZSF+oltAWCkKUtay4tejt9ay2Jdt86r3VZscezDHNetXMu43bpkeLcjPlNBpExoy3GozqUJBBQt5pSeSpJXz219GQa3z3qMyjHbltXF3MNwDFLi3eouKyp0eVcr1cmT+IcuBjKdjMx2lcrQy088XCUqcLfb4ZCw4BIv0vBMcl5UgovT1ohuXJJABEosoLo4HkPXKvZ5VDuuPp6tG6NMZHeWrlf4mUYvbV3mwORL3MajMzYgU+2sw0ue91uHhSPEU2XAFeqocCuw0TtLYef5Ts/G9iWLHbVIwnI2bTDassp+UhUdyExIBcfeQ2XF8vHkhpsD8nhXHcrwYEDqO2lm2TYRt3CMax3WluvS3YM+33Ivy8lto4LEZbIJ8FPcCX1rKe8cNJa7SpwhPMC1XYuuzSuvNxbeybIWpSVW+82ePYrs5FZgSIiu1xa2+0tuPOuocK1qQVNoKUNKRwpa9gVlXpC1t1D6TfyTTV7w6wQddWbJ7hcsfyF26iRJnWyS6txuIzDa82ihSiVPPODjntS04D3p1VQKUpQKUpQKUpQKUpQKUpQKUpQKUpQKUpQKUpQKUpQKUpQKUpQKUpQKUpQKUpQKUpQKUpQKUpQTvRH5hj99f8A5iqJU70R+YY/fX/5iqJVd/rWL7qu8s/knsCx+HC+lKNdSOMX+YnANiY/aZV2VrvLGL9Ot0NlT0mRAVHfjSCw2gFTrraJBdDaQVLDZSkKUUpP8NPWe6ZLuTYO83LPdbTZMhgWixWVi7W56BMkNQg+t2S5GfSl5lKnZKkIS4hCyGirt7VJKrZSpGgKUpQKUpQRHNME6ncp3M+bTt6xY5qCVaGYz0GDbyq/e+g53PFp9Se1kuI5R4wWooST2NJc4eFfsNitGMWaFj1ggNQbdb2Ux40docJbbSOAP0n+0nzJ8zya++lApSlApSlApSlBnbpuvLkzce73XsXy+2sX7JY10tkm74rc7bHlxm7dFjLW29JYbbUfFbWAnu7iE9wBT61aJpSgUpSgUpSgUpSgUpSgUpSgUpSgUpSgUpSgUpSgUpSgUpSgUpSgUpSgUpSgUpSgUpSgUpSgUpSgUpSgneiPzDH76/8AzFUSp3oj8wx++v8A8xVEqu/1rF91XeWfyT2BY/DhfSkpSlSNAUpSgUpSgUpSgUpSgUpSgUpSgUpSgUpSgUpSgUpSgUpSgV5mR5LYcQssnIsmuse3W6IAXZD6uEgqUEpSB7VKUopSlIBUpSgkAkgV6dZ8teR/DV1UXmxNLcexPSsdgON/9jKyaWgqCz/3jGjHhP8A3VyFH2hJAaCSoLSFDngjkcgg/wC4+yv+1k/3QGV1fYfgLW0ulnYDsFrHWXXMhsSLNAmOPxRyoy2VSGXFlTYB7m0nzT6wHKSFZs6MNxdVvWFZbi3C6/04rl1oUVzMde1lZZSzGJ4RJZd5b8VvzAV6gKFEA+SkqUH6h0rKvo8ddn/iK/8AKKz/AOZUz6iMF90n07rC67IwbrKiZwbCyubcba5r60W14Q0JKnHGVdjyXFJA7ig9nKQrglXCSG9qVzWs7leL1rjFLxkL/jXWdZIMmc52pT3yFsIU4rhACRyok8JAH6PKuloFKUoPNyHI7HidqcvmR3Jq329lbbbsp7kNNd6whKlq9iE9yhypXCUjzJABNelXz3C3wbtAk2q5xGZUOYyuPIYeQFtutLSUqQpJ8ikgkEH2g1BumTMpVjyfOumHIri5LuWr5TBs0h48uycelI8SD3kklS2RywpR8yG0E+ZJoNA15cHJrBc75csbt11Yk3KzpZVcGGj3GKXQVNpcI8krKR3dhPd2lKuOFJJ4bqR3A3ozTt/2A1GEu6Mtog2WHxyZdzkLDUVrj4wXVpJ/8oVX3as11OwXVMPEVXySMgkxHJF1vZShyQ/dpAK5ExXekpWvxVFQCgUgBKeO0AUHf0r8ddv9UPugHTzv+PqDeHUlIx3H5koGPlUTBrPNadt61FKJiGPAQVgEDxGwsKRwrjuIAVtS0aP618gtUO+2L3SeNcLdcGESYkuNqeyuMvsrSFIWhaXSFJIIII8iDQa2pWVfR467P/EV/wCUVn/zK8PpVvnWVYupfO9P9TmxomXWi1Y8xdrFOiWqDEZlNuyfDQ8Awy24lXCHEqbUSEqSeCodq1BsalKUClKUHmzMjsdvvdvxydcmmLjdkPLgsOcpMnwgC4lBPkpSUq7u0Hu7QpXHCVEelXCbr147szXdxsFtmqt99jdlysFyQkFy33WOfEjPp5/QsAKHsUhS0nyURXmdNm5Y2+tN2DYwYRFuEltcS7xEeyLcWFFqS0Pb6ocSop8/ySmgp1KUoFKUoFKUoJLra7XbX9uh41muNSrW1PlqEaeXW3WS44fVbX2k+GTxwOf/AGqtVKcqy607UtKMPwkSpzs2QwqTK97ONtQm0OBalqUoD1vV4AHPPNVaveJXVi1zXX+5n1lNZ2uDY22Ha28elFFMU0x+/SIj0iPWf7n+o/0pSleFJSlKBSlKBSlKBSlKBSlKBSlKBSlKBSlKBSlKBSlKBSlKD+E6Yzb4UifIUEtRmlvOE/ElIJJ/3Cse+5dTJGVaWzPatxdU9PzvP7xd33lEErHLaE+z4h2kAf8A+cVpnci5LWoc4chBRkIxu5qaCU9x7xFc7eB8Z548qzR7kv4PoV414XZ3fhW7eJ28c93vpf5X9vb2+34uKDYxAIIIBB8iDX5OdcnSlm3SPs+J1n9KzTlstMOYJl6t8VJLdqfWoBavDB9aG93FK2/YgqIHCFAI/WSvlulttt5tku0XmFHmQJrC48qPIbC2nmlpKVoWk+RSQSCD5EGgi3SH1W4V1ZaujZlYHGIV/gpRHyGyeL3O2+UR7QD5qZXwS2v4wCD6yVAWu42+HdrfJtdxYS/FmMrjvtK54W2tJSpJ48/MEivzW6Luli32TrHzLbfTvnl6h6ax59+1JcUhJavUs/8A5rewtXcJERhfB98EBXclKUlRBdr9MaD5bXbYVltkSz21jwYcFhuNHb7irsbQkJSnlRJPAAHJJNeHsPZmvtS4y/mOy8xtWN2aPyFS7jJS0la+0qDbYPm44QlXa2gFauOACa6av8OoacaW2+hC21pKVpWAUlJHmCD8VBN/SS0anTjO/wB3ZFrYwCQwX2by+HGkuAKUnsS0pIdLvclSQ0EeIVDgJJ8q6vAc9xLaGG2nYGCXlu7WC+RxLgTENrbDzRJHPY4lK0nkEFKgCCCCAaxp0I2PC2dp7o1a0lFwsOI3966YhCeaCobVqu6VlbrLakgFK0o8MK8wW1KCfVcUV7bsGP2HFbNEx3F7JAs9pt7YZiQIEZEePHbHsQ22gBKE/wBgAFB6FYu2NfVa/wDdRNZvtnwo+wsDmWOUSSEurYdeeb/QCoFCR8fkr2Dnmto1gzrKbdb6/wDpRkw2UrfcmTm19x8vDC2+74/aEqWft9lB0nXZd1X/AHr0x6bL6vet7zpN9msAjhxELwyjnn4gVrP+z9PFbPrBHVOtZ90x6ZG5QHvVMGcpsrSO3xSJHsJ9p5Dfl8R4/TW96CJ9WfSxgvVfrCRhGUtoiXaIFyLDeUo5dtsvt4Cv/M2rgJWg+Sh5+SkpUMAdEnVJnnRntSV0a9VH/wBKsTMwtWu4yneWrS+6QUEOnyMJ7nuC/YhSuTwCvt/WusL+6naW1Xs/AMdclsyvhZmT0WjB49rYS7MuzzigVxXUEp/1ZIJWp0kBn8rz7ihYbnSpK0haFBSVDkEHkEV5xx2zHIhlhgp/CyYRtwk96ufe5cDnZ289p9Yc88c+3z8zU96X9X5lprRWJa3z7NZGUXuzQUsyZjvBS18Yjtq4CltNAhCVL5UQkewcJFUoFS7aHVB0/aYvdvxnZe17FZbzdJLEWPbVPF6WFPEhtbjLQUtlo8H8a4Etj41CqjWT/dRrCxeejDM5iozTkiyv2+5RXFJBUy4iW0krQT7D2rWOR8RI+Ogvm0Nya00vaLbf9nZUxYrfd7mxZ4ch1l1xDkt7nw0Hw0q7Qe0krVwhIBKiBXZghQCkkEHzBFQfKmLNvbAsF1jNskK8sZFb7XkN6cmRw8i329CUOBwFQ9SQ8seE0ocKH45af/xGrwAEgJSAAPIAUH/axd0H31Vl3h1OabUeyPZM8cvkNkk+oiaXO/gH+ry0gjy/rHzPNbRrBnSy27H90s6nWY7KRFVDt7jiueSHSlkjjz9h7nD7PiHsoN50pSgUpSg+e43CHaoMi53B9LMaK2p11xXsSkDkmuJb2Jlk5CZlo1bdJMJ4d7DzstplTiD7FFB5Kefb/dXtbGx+ZlGE3axW9QEmSyC0CeO5SFJWE8/Fz28f7a8SPuXE4zDce7x7lbpraQl+Iu3u8srA80+SSOP0f2cUH8tEfmGP31/+YqiVO9EfmGP31/8AmKiXVjuPIbdvrTfTbEzaZhFh2Q9MXe77AdDE15tpHa1AjSCOYynXFJSXUEOgqR2KST513+tYvuq7yz+SewLH4cL6UtY0rLXUBpzYmCYpb7r08bmz/Hp1wvlrs12iXTIJmRNzIUuW3HcU0bm5IciPNh4rDkdbZIBCvMIUj/XXZvbJtI4nr7HsXyj+iozzLIWOXDKXG0Prs8FXm88jxgpHiFI4C1ghI71e0AiRoGo6VmTdulsn1vprIc40FuTY1nzPHrO7MiS7vlU7I41xDbfctp6Hc3JEcFwJ8nGm0LSojtPb3IVfcDtV1seE2Cz326Sblc4dtjMzZklZU7IkJbSHHFEknlSu4+3y54oPepSlApSlAr5rk7PYt0p+1Q2pc1tha40d17wUPOhJKEKc7VdgJ4BV2q4554Psr6aUH5vte61bHc2t8CL3R2IeafhJVo/Blw2CxC/1sEgNl1+Ghodx47SVgL7k9pPcnm7ekP12f+HV/wA3bP8A5dcn7ov0JR+pTGfhM1vGbi7NxyMfBCAEfhqMjlQjLVyOHU+ZaWfj9Q+RCkcn7mx13yNqQ2+nXd86RH2PYULYt8yfyh27sM+Smne/1vfbYCu4HzWlJV5qSugrHpD9dn/h1f8AN2z/AOXX+ulvrRzDfu38y0xn3T9O1nfcMgJmS2Zt6MxxSi6lAT2e9mh2kLC0uJUpKkkFPIINaorj2db2uPtqTtuO6lufNx9uwSWg15uttyFPNrK+f6ve4OOP63t8uKDsKUpQKUpQKUpQKUpQKUpQfHeLaxebROs8pIUzOjOxnAfYUrSUkf7jWPfcqIsnHunzJNeXD1JuG51eLQ+0SOW1IU2SDx/aVHnk/wB9bOrN2BY4NF9WGZWlSHGsZ3ahvIbS77GWr9FbKZ0X28BbrITIT5esG3fb2UGkazNvHMMk3tnMvpO1DdnoMZDCV7KyiKefwLbXUni3R1ez39JTyP8A9NsqVwTxx4fuhXWrC6UtdIs2LrbkbEyllxFlZUnuRBZHqrmug+RCT5ISfyl/EUpVWItJe604vovA42FY30wyJjynVzrtdpmcd8y73B3zfmSF+8OVuOK8/b5ABI8gKD9d8KwvF9dYnasGwuzR7VY7LGREgw2E8IabT/7kk8kqPJJJJJJJr26/Kv8A053/AKXf+Nv/AIFczsT3bfPb9isu1a30fbMVvUkFtF1n31V0THQUkFSGBHYHiAkFKlKUkEeaFA8UH63Wu8Wi+RTOsl0h3CMl52OXor6XUB1pZbcR3JJHclaVJUPaFJIPBFSfaGhsv2Ts61ZU1vfK8fw5u0uWm+4fbkpTHvCFO+J3eMT3MKV5IWtCfFLfKUONhSuf99H1hk450w61gz5C5E2Rj8a4zHlq7lOyZQ98OrUfjJW6ok/21YaDP2W9KEm67/t+7cG21eMFjLx1vF7/AGazQGObrBaWVMobkOc+9O31UlbaPECUjw1tK9avaynOLi/1CYhos4k/Itn4Idyv8NQsunRJMQRVhlKJUZptKZLbjjiUhLkhaVkLK0eoObPUwt2or/A39e9zHN4q7febPCtH4I/BB98NNxvFUlIlqeKfCU4+44pCWUqKkt/jOEqSoKfWJ9x2X+nvunmmLS2wh1rCMPuGRSiD5t963Wmyr4vyy3xxyfPn+7a5IAJJAA8yTWc+nXGznW4dl9Uc5JVGyN5rFsUUUcBVlgEpVISSOSl+T4q0n2FKEEchQoJl1zWNVk6melrbSUBDEPMlY/KePHCRJLZbSfb7e13z48v0ittVG+rXTc/d2k7rjWPKDeTWp+Pf8cd7u3sukNYdYHd5dveUlvnkcBfPxV12udp2HO9VW3aTrv4NhPW9Uq5Il/i1W51kESmXgfyFMuIcQsH2FBoPq2ptDD9NYHddi51cfelptLXevtHc6+4T2tsMo9q3XFlKEJHtUof31JOn/VeW5Nl8nqk3vakxs6v0T3pj9jX66MRsqiVIip/TKcCu59z29x7BwkEH88tve6i4zlXUjGzaXqqRm2BYI6o4daHrz+DWV3AHg3aQgx3vFd458FKgnwgeeO8kigf6c7/0u/8AG3/wKD9VK+ObeLRbZUGDcbpDiybm8qPCZefShcp0IU4UNJJ5WoIQtRCeT2pUfYDX5b/6c7/0u/8AG3/wK6Po16stjdb/AFkM5HlNot9gxjX+PXKbZrJDcU74T0hbTHivOq4LzvhrUnuCEJA9iEknkP0xqJ9X+Ps7G0fkGlYDyF5HsGIu1WSL3EFb4KVl9fHJSwzwFuL44CeB5qWhKrDd7a1ebVNtD8iSw3OjuRluxnlNPNpWkpKkLT5oUOeQoeYPBFS7p56YNZ9NWOix4Q5e7pKLXvdd3v0735OVH8VbiWEr7UoaZStxag20hCSpRUQVEqIe1orUUbS+u7Vh67w7e7rHhxmbneH2ktuznWWUMpPakAJQhDaEIR/VQkcknuUedsWe3TMupTIteT8RcjRde2qNPYvMDK5vgyFzwQiPKt6WmmFOBDS1grU+EDsKSlSzxZKmGtNRX/Ath7AzWfm0W6RM3uv4URCbtBjvRyGWmW23ZCnnPGS22ykICEMgd7hUF8p7Ap9Yn6HrL+Hupzql254CPAl5gjHYrqTyFe9e/wAUDnz+Nrn4ufZ7PLV2088t+sdeX/PLklTjdnhOPtMoSVLkP8drLCEjzUtxwoQlI8ypQArhekvUFw0xpW12LIyleT3qRIyLJHAB610mrLz6fL2hBUGwfjCOaCyUpSgUpSgUpSgneiPzDH76/wDzFcP1LdOGsus7VSLc/NEe6QHH3sayOMhSX7dNQsoURzwVNFbfatHsUEgpIUEqHV6idnsaqnP2qIqVNbcmLjMJWlJddCeUIBUQkEq4HJIHn5kVLOndPVHoLW1u1ptnUD2wn4Adeh3vCb7Ac9R15xwsS27o9CUHUFXktrxUqSRz2lPrV3+tYvuq7yz+SewLH4cL6UuS6FOorbk/MMo6SOpmOpWytfMh6Pdfyhd7cClKXFL4AWoBbag5wC4hYKh3pWVX/c+otUdU+ur9q7NY4uEFmUqMqQyCiRbLg2gFLrK1DycQHB5jlJCilXIKhU/0boTMjv8AzPqy21bodjyTLLdHstoxuLKTLNotraW+ffT6R4bklam09waKm0AEJW5zyPL03G6qdNXXM5GearTnVgzPJrjkdraxm/QzdrKl9aSmNLbnuRo6kdgHCmJDnYpKhwpKgoSNAlXSFtjc3T1vP0EOouau+MmIuTgGTcE++4TaVKSwpR8ynsQvtCvWbU2pvlSS2RvusxY/pHOtsdUdo6o9q4wMNg4XaHrNimNPTWJdxccdU6HZk5cdTkdv1XD4bTTrvtBUtJHYbPke5tcYflzOEZXfnrPc5MB+5MOTbdKZhPMMp7nvDmqbEZbiE+sppLhcCfMp486DtqVwGPb011kuWwMFhyMgg3y6wXrlBiXjF7pavfLDRSHS2uZHaQtSO9BUgHvAUCRx5102JZfj2c2YZBi89UuCZEiJ4imHGVB5h5bLyChxKVApcbWk8j4uRyODQfXfGb3ItExnG7hBgXRbKkxJM6GuXHad49VTjKHWlOJB9qQ4gn/vCpx/Rzqn+eTVX8NLj9+1R75Z4mQ2iZY5705qPOZUw6uDOfhSEpUOCW32FodaV+hSFJUPiIqcejTrr9Y9q/xYyr7xoPUxmyb/AIl7jSMy2br66WdBV75iWzBpsCS4O08dj7l3fSjhXBPLSuQCPLnkUGp9jOjMKxK9xsgtV72C/KiFRbbuexMguUZXKSk98eVNcZc8ieO9B4PBHmAaoNAr80/dRukFiC2vrH1HeY2MZPYHWJN8SiYIapa0rSlmXGXyOJaVdo7Qe5z1e3lY4X+kk+fBtUGRc7nMZiQ4bS35Eh5YQ200gFSlqUfJKQASSfIAVlfCrPK6y9m27duUxZDenMKllzArNKQUpyG4tqUk3x9sjnwUnyjIV7eC5wOeFBXOl3JdvZfojEci3pjzFmzGbAQ5OYbUQtaf+zddb7R4Lq0dqlNDntJI8vyU1SlKBWHetLDY+gNja66xcHnXpV4gZM3YcgYuN9my4sm2z+9JbSh9bqYzSXPMIZSlA7+QgkJrZmWv5LFxa8ScMgw5t/agPrtcaa4W470sNksocUPMIK+0EjjyJ8x7ay5nWk96dUvT7kbG+8WsOL5lKx12Jj+N2+4++Y0G5gBRmvPBRR4jjjaUoSlSwy0pQLiy4vgKZi3SziVo3LbOou8ZVk1zz9m0yLXPfXdFqt8tD6u4pTGX3Blps+TTbRQgDhSwtzlZttSTp4ue+ZGuLZK35hloxa52+1sxHLbBn/hSY88yntclOuMgNI8TtBTHaDpHPJdJV2J9rUWz7Xt1i+ZZiuTs3THGbgq2RGHMan2mZBksDtlNSDMUFPKDh9qWWgjgpPeQSAyjt3BrVpf3QvQeb4vdMiKs+avNiu6bnfptyDiEtlxCEGS64ttsLdBDSSGklKSlKeDzdcg1jYMp6xcY2jZLjd2r3heMyoN88KR/qLkWSVe9Yq0e3xisuPeR4CWk9ySVNqE864cLz3J9tdOd41fZI94yKwZi/N96PPFtpuIlpCnZLywFdjDfYkKV2k8uISn1lJB0zhuKxsFx5xh2W9cZ761z7tcVMcv3CWoDxHlIQPMkJCUoSPVQlCEjhIFB0leNluV2vC7I7kF4i3iRFZUhCm7TZpl1kkqUAO2PDadeUOT5kIIA8zwPOuX1Fs+17dYvmWYrk7N0xxm4KtkRhzGp9pmQZLA7ZTUgzFBTyg4falloI4KT3kEig0Eq9JbXX6ubV/hPlX3dXvYZuDE88uq7NY7Rm0aQhlT5XesGvdnYKQQCA9NiNNFXmOEhXcRyQOAeO3pQc/mucWXALU1eb7CyCVHekJjJRZMeuF5fCylSgVMwWXnUo4QeVlIQCUgkFSQZXmu4NN59ZhZcgxTbBSzIbmw5LGqsqbkQZbR7mpDDgt3LbqD5gj2glJBSpSTdKUEpT1K67SkJOPbWUQOCTqbKeT/b5W6v++ktrr9XNq/wnyr7uqq0oJV6S2uv1c2r/CfKvu6npLa6/Vzav8J8q+7qqtKCVektrr9XNq/wnyr7up6S2uv1c2r/AAnyr7uqq0oJV6S2uv1c2r/CfKvu6npLa6/Vzav8J8q+7qqtKCIZjurVGc43NxS9WLcKLdckBmYiJq7K2FvscgrZK027uShaQUK7SFFKlAEc816UDqH1ZaoMa12zENnxIcNpDEeOzqPKUNtNIASlCUi3cJSAAAB5ACq7SglXpLa6/Vzav8J8q+7q5+wbe03i97vd7sOLbZhnIX0TJ8RvVOUiMuWAQuSlv8HcJdcHaFkcBZQlRHdyo3WlBKvSW11+rm1f4T5V93U9JbXX6ubV/hPlX3dVVpQSr0ltdfq5tX+E+Vfd1PSW11+rm1f4T5V93VVaUEq9JbXX6ubV/hPlX3dT0ltdfq5tX+E+Vfd1VWlBKvSW11+rm1f4T5V93U9JbXX6ubV/hPlX3dVVpQQnItt6ayu+WK+X/F9tzDjkhU2BEXqvKveyJZHaiSpsW7hbjaSsIKuQgrUoDuCVDq7T1B4HerrDs8OwbKbfnyG4zS5esskisJWtQSkuPPQEtNI5I5WtSUJHJUQATVLpQKUpQKUpQKUpQTvRH5hj99f/AJiqJU70R+YY/fX/AOYqiVXf61i+6rvLP5J7AsfhwvpSUpSpGgKzx1CYrsnYtyx2/Yzq6S+5q3LLfkEFia5bVu5CArwnxDK5PYylMd19QMgsrLqWuAkJ7joelBn3cdpz687a0pkWJ2OEnI7f+GBco7k9C2rXEkwg25JXykF5Db3gpASAVqUlPqhRUm5WCyw8dtEazQe4tR0nla+O91xRKluLIABWtZUtR481KJ+OvC1/qnAtXM3BjCLIuF+FJTkuU49MfluuLW4twp8R9a1pb8R11QbSQhJcWUpBUrnraBSlKBSlfNcrfGu1ulWqaHTHmsLjvBp5bS+xaSlXatBC0HgnhSSCPaCDQfnx1Q9anT1sHcTnTpnW2kY5rHHHQ7mkuJDmynMjltrHFnZVEacKI6VD/WFkgr48NPl3Gq9A9046BrVBj2y2bnZiQ4bSGI8dnFbuhtppACUoSkROEpAAAA8gBX0K9y66FVKKlaOJJPJJye88k/S6f6LjoT+Yz/ia8f8AV0D/AEo/Qn8+f/DN4/6SuS1b1vY91X9WeP670nIvaMKw63XO9Xm5vJXEReXewR2EJZ5Cywkv+Jw8lKisJ9RJQCet/wBFx0J/MZ/xNeP+rqiaT6POnLp1yCblGm9df0fudxie8ZL/AOF58vxGO9K+3tkPOJHrJSeQAfL20FmpSlB5+Qv3aLYLlKsMH37c2YbzkKN3pT4z4QS2juUQkdyuBySB5+ZFZqwzW3UxjnSJZ8D1ILNr3Zkd9p6VIydTExLrrj/jT3l+9ffDSFOure7OPF/FlPPhrV+L1LSg4jXGvrliwlZDmmR/0mzK7oSm5XYRve7KW0lRbixWO5XgRm+5XajuUpRJW4ta1FVdPkL92i2C5SrDB9+3NmG85Cjd6U+M+EEto7lEJHcrgckgefmRXoUoJB0n4bkuAaLx3FMvxORYLzEQ45cWZUqM++/MdWXZMhZjLcaT3vuOlIS4s9nYVdqiUJr9KUClKUClKUClKUClKUClKUClKUClKxn7qJIxIaUsuPX6/Xi2zsuyCDj0UxLzNjxww48hyS49EYcDUsJaaISl1twhSh28E0GzKV+e/W7qiLdunJm97Cj3V3IrtMtGMa2w9m4vRYVgfdcDcda2GHAiRNDJcU6tfehPaG2wEpKnN54rbJtkxez2a53ByfMgQI8WRLcPK5DiG0pU4r+1RBJ/voPVpSlApSlApSlApSlApSlApSlApSlApSlBO9EfmGP31/8AmKolTvRH5hj99f8A5iqJVd/rWL7qu8s/knsCx+HC+lJSlKkaApSlApSlApSlApSlApSlApSlApSlApSlApSlApSlApSlApSlApSlApSlApSlApSlArO2zNMZZtbq21zluS4+27rnW1nmXaI88+ypEnIHnEobHg95c/FNoDgUpASFccEn2aJpQZj6k9bbhz/qE0zecXwlm9YdhjtwvEp9+4R2Y0a8KbDcN2Q2pwPONt+sv8UhauTx6vPI0wwHkstpkuIW6EgOKQgoSpXHmQkkkDn4uTx+k1/SlApSlApSlApSlApSlApSlApSlApSlApSlBO9EfmGP31/+YqiVO9EfmGP31/+YqiVXf61i+6rvLP5J7AsfhwvpSUpSpGgKUpQKUpQKUpQKUpQKUpQKUpQKUpQKUpQKUpQKUpQKUrwI+b2ObmcvBLeqRLuVuiJl3BbLJLEILI8Jt1z8kOuJJWlscq7E9xCQpBUHv0pSgUpSgUpSgUpSgUrn5GcWCFmkXArg85Eulyhrm27x0drU9LZPjIZXzwpxsdqlI8ldqwoAgKKfpynF7XmNmdx++B5y3SVJ99R0OFCZTQPJZc481NK44Wj2LTylXKVKBD16VBtJ6usmBbq2DN1ZbYmP67kQ7fEXZra0li2m/tKdEt6MyjhtopZEZpzw0pCnEkK5W2ri80ClKUClKUClKUClKUClKUClKUClKUClKUClKUE70R+YY/fX/5iqJU70R+YY/fX/wCYqiVXf61i+6rvLP5J7AsfhwvpSUpSpGgKUpQKUpQKUpQKUpQKUpQKUpQKUpQKUpQKUpQKUpQcRu3ado0nqXKtq3tHiRcatj00M93BfdA4aaB/StwoT/8AyrwOmHD7viem7JKytzx8qyZByTI5Kjyp64zPxrvJ/QgKS0kewIaSB5AVAfdVL926YwnXSZBR/TnPLTbHkd5SHGEqU4oHj+r3Bvn/AGVtBhhuMw3GZSEttICEAfEAOAKD8fuv/D+q3pd2S1ndl6g9wXHU+SXLvZEPNrg09bVKV3uQVOFaktkp7/BcKVDtHBCig92nNGdOmAdQ2t7Xs/XPXR1VS7ZcU9rrS9jdr8KQkDxI7yfe/quIJ4PxEEKSSlQJ2RsHX+H7Tw264BntjjXexXqOqNMiPp5SpJ8woH2pWkgKSocFKgCCCAa/IiO9tz3JDqV96yXJuQ6gzJ7vPaPKdDSogEc8JROjhQ5A4CwfiSsdobu9AX/1qdVX8R//AI9cJrrRG+NC9amIRZ3UfsfP9ZZHaLs4xEyfIZUtyPJZYT+KfSVeC6rlwLQsIR7FDtBQFK2Nged4ls3D7VnuC3uPd7Fe4yZUKYwT2uIP6QeClQPIUkgKSoEEAgivXft1vlSo06TBjuyYRWqM8tpKlslSe1RQojlPKSQePaPKg+ilKjO1uq7Wmm8+xjAM0tOXsuZTdGbO1eU4/IRZosl5ILSXZzoQyvu544ZU6pJCu8JAJoLNSo5mXVTrbC9v4tpeXbcnuF2yq4qtDVxgWlblrhTQ0HRHflKKUeKUEKLbfiKQCC4EJIJsdBJeqPELtk+nrvd8Tfci5bh6f6T41KaTy4zcIiVOJSBwe5LqPEZWnj1kOqT8dfDa8synqd6a7NmGmdgR8DuOaWpp9N2ctX4TctxWkpfQ034zQDqFhSQtSiElJPaTxxZJLCJUd2M6kFDqFIUCOQQRwaxb7lPkbr+ksw13Jc9fBc4utsab8vxTK1h1Kf7u9Tvxn++gsPT5ovduqZ3Gz+ph/YlnhQPeVptLOIw7GzDUVJKnVmOtRkKITwO/2FSlckqJq60pQKUpQKUpQKUpQKUpQKUpQKUpQKUpQKUpQKUpQTvRH5hj99f/AJiqJU70R+YY/fX/AOYqiVXf61i+6rvLP5J7AsfhwvpSUpSpGgKUpQKUpQKUpQKUr5rkm4rt0pFnejNT1MLEVyS2pxlD3aewrSlSVKSFccgKBI54I9tB9NK/KbKPdJOt3AN5fALsrD9KYbd/f4hfhO9267t2wIWSGpPjNylq8Bzy4cCCBz63bwrt1clXupa0haFdKikqHIIOREEUGq6VlX/7pv8A6Vf+I6+DpX6heqzNt+5xo/qX11iONyMVs7Vziv2GLKS3MS4+G23UPOyHUuNLT3kcBKgUkK7VJUkBrmlKUClKhO1dkb41eYGw5NsxKdhzl/hWmbjjMKSb01FlSUxW5Lc4Plhx3xHWnDH97ABJUgOkgLIXalKUClKUGCPdSVux8m6bpri1JhsbGjl48+QV4kcpJT7SeAv4v0/pre9Y191RxZ+4dO1pz2I2S7gGXWq+rWkHuQz4hZWocezguoPtHkD51sKBLauEGNPYWFNyWkPIUPYUqAIP+40H0Vmnr+Opbtop/AtkYpIyq8ZXLRb8PsVucSi5S70ryZXFWQfC8Pu7luEFAQVBQUFdqrds3ZWHahwa77Fzy7It9lszBfkOkdy1n2IbbT7VuLUQlKB5qUoAVHdBa1zHOcwc6pd72lcLK7nGXFxPG3j3JxGzucEN8ez36+AFPue0chscAFNB9HQ90wvdKmj4WBXS/wAm63ue8bpdz74WuIxKcSApqMgnhKEhIBUACtQKj7QlOgqV42UZhjmGRIc3JbkmEzcLhFtUUltbhdlSHA2y2EoBPKlKA544A5JIAJAezWbPdBbLEy7poyTCo0R6Zkdxb9+2CPHb73hKhH30p4D+qlDbS+5X/mCRypSUnSSkhaSk88EcHgkH/ePZUd0d0qav0JDukXGpGQXtdzVJbD+Q3NU5cOI+6XXIcYEBLLBcUpakpT3LUQpxSyAQHpdL+SWXMenvAMtsKAmPebHGnPHvK1KlOJ7pKlqJJUsvF0qKiVFRPJ55qo1FtE9KmuOnK1yomD3fI7h2rlLtZyO6LnMWRp5XetiGwOxuOyVesrsAcc4He4rhPH8eky/3zYev5u3ctx3EIl6yy6SeLlYLKq3qutvjOqjxJEgLeecWpSEFSeXVBKFpA/SQt9YM9y4SsX/qOWw40YJ2TKDCG+OAQt7kjgewpKOPP4v9+658tq3wZM99YS3GaW8tR9gSkEk/7hWP/cssakw+nu87CmthL2wcvut/Qrs7StkuBpCuPZ5lpZHHI4I86DZFKUoFKUoFKUoFKUoFKUoFKUoFKUoFKUoFKVyWcp2lMMe3a0m43aHChT0i6323vXFlJBASyiKzIjrUVcklwugICQAlZUewOtpU26f9lZLtHX6rxmlgi2nILTdZ9hurcJa1w3pcKQth16MV+v4K1IKkhXrJ5KSVFPcaTQTvRH5hj99f/mKzX1ybMhWnf+jNRbOvkq0ajzCTOVknhSFx49zfQkNx4kxxBBMXvcR4jZPYoL5X5J8tKaI/MMfvr/8AMV4m0dWan6xNMSMZy21rk2a6F42+YUJTKgyWlraTKYUCe1QUlRHnwpJKVAhRFV3+tYvuq7yz+SewLH4cL6Upxv8A6QcJl4nb16Dx9zXF3evdqi3P+giPwO3dbU7LbblszmovY3IaSy46sFxKuzg8eqpaVeF7pBtO8ap1/rq2sXy7Y5huR5lBtOW3OzuuMSmLSAVuNNut8LaC0oVyUEKKUFI/KIPK9B+w9wat3BmHQru67qyOThMBN0xi+95Up218thDSiSVdvY62pCVElHrt8lKUcaxySxa36gcOyrXeXWFu9WH329ZLnGlIHap5tKFFTageUqQVJKVjhSVJ5HBANSNAjG3OlXUM3RV4vnTRisLB8rasS5eMZHr1AttxkkNBbTZkxChyUy8AkKStSgrkK/KCVDQuB4yzheE2DEWFrWizW2NB71q7lrLbaUlSj8aiQST8ZJNYN6ZJu0ei3qrj9FWX5DJyrXOZRZF1wWa+vuftwSHFlojn1E/i3ELQPV7wlxAT3rFfohQKUpQKV8N8t8u7WiZbYF9nWWRJZU21cIKGFyIqiPJxsPtuNFQ9o721p/SDU4+BvYv7WO1fq3FfuagqtKn2M6yzWw3uNdbr1D7ByOKwVFy2XOFj7caRykgBaotsZeHBII7HE+YHPI5BoNBmLrq6Lca6t9e/6kGLbntgZWvH7ooAJc+MxJB45LKz7D7UKIUOR3JVmL3OTrPyXCckR0XdSzUu0X2zvm147MuZ7HGnE8BNseJ//pXyQoEIBP4vn9Oq/PT3WHpe17mWERd62+7xbBsG3vx7VDaS0tTmTLcUEsQkIbBWuSDz4agD5ApVwkBSA/QuvAGE2ROeK2KhDibuu0iyuEFPYuOHvFTz5dxKVFXHnxwo+Xx1xXS7ZtyWDRGI2nfl4j3LNY8BCZ7rafxiE/8AZtvL7iHXko7UrcHAUoH2/lKqlArx3sxxCNlMfB5GVWdrI5cVU6PZ1zmkznoyTwp5DBV4imwQQVAcA/HXsVhnr6wfCdJTcA6qdc2CwYxmdhzNkXOfDhNMOXSJMSpuSqUGygyePJRKiVdpX6yQSaDZis1w1OWJwFWW2UZOuIbgmyme17/VFCu0viP3eIW+7y7+3t58uay5mvVTPum1xYHulPft/sePTmvwJIiYI+1brhcueEzH3ZBbU0y0o+oSggHl0glLfbaMQ6bNL43mls29b8Tiys6jQnmHMoUtYmXD3x5vPSClQQ8tXsClpJQnhCO1ACaqtB/houKaQp5CUOFIK0pV3BJ48wDwOf7+K/3SuGzLYWXYxdxbbJorOMujllLn4Qs0yxtRwok8t8TbjHd7hwCfxfb5jgnz4DuaVKvhk2L+ydtX6yxX75rvsVvdyyGyMXW74hd8YlOlQXbLq7Ecks8KIBUqI++yeQOR2uK8iOeDyAHxbJwGw7TwDINc5QyXLVkduft0oJ/KShxBT3J/8ySQof2gVPuli+XtvWzWq827G8x1oW8avDYPk+20ge9JiPYS1Ij+G4k8e3vT7UKA6XKdl5pj99lWi09PWwMmiR+zw7pa5tgbiyO5CVHsTLubLw7SSg97SfWSeOU8KPML2DlK8ibyw9Hm0BeGoareJibjiyXFRlLC/CVxefXSFDuSFc9pKu3juVyGCuqzfvWLm/UPbL7r/pGza+YPruatzH7dfsIvD0OfcE8pF0dbZDZWpPJ8AKUUoBCuO5R4+j0+vdTf2K/+XGR/9RW//hk2L+ydtX6yxX75p8Mmxf2Ttq/WWK/fNBgD0+vdTf2K/wDlxkf/AFFf20nm3XT1NdXWt7p1G6qyvEsHxaa/eWoCcQnWy0MS2ojiW3FOPpUpbhWR2+K6oAqIQE9xB3z8Mmxf2Ttq/WWK/fNPhk2L+ydtX6yxX75oKrSpV8Mmxf2Ttq/WWK/fNPhk2L+ydtX6yxX75oKNf7Q1kFiuNhelSIrdyiPRFvxlJS60lxBSVoKgQFDnkEgjkDkH2VzupdZW7UGCWzALTkF5vEO0sojRpF1WyXkstoShtsJYaaaQlKEJTwhtPPBUruWpSjzfwybF/ZO2r9ZYr980+GTYv7J21frLFfvmg+Tqiv17RrOTrjB3ucz2H3Y7Y20H12vGHbJmEe0Nx2FOOqV7Bwke1SQe71tgNh1ZgGPa5xdkt2rHLcxbooV+UpDaAnuV/wCZRBUf7Sanac+yYZIrMD0dbOVelQxbxNXcMWU6iMFlfhIJvPqJKj3KCeO4pT3c9qePU+GTYv7J21frLFfvmgqtKlXwybF/ZO2r9ZYr9812uFZNesqtTtwvuvcgw6Q3IUymDe37e6+4gJSQ8kwZMhrsJUUgFYXyhXKQO0qDoKVzmb4tfMrgR4dh2TkeGOsveIuVZGLc668ngjw1idFkoCeTz6qUq5A8+OQeN+BvYv7WO1fq3FfuagqtfNcrlAs9ulXe6S2osKCwuTJfdV2oaaQkqWtR+IAAkn+yucwbC8kxNctV/wBt5ZmgkhAaTfI1qaEbjnkt+8IUYnu5HPf3fkjjjz5kPuhl6uNh6M9ozbW/4LztoTEUsDk+G8+204B/ehahz/bQf86eLxP6lyOo/KnJzeMuT30YFjy3VIjR4jDi2vwlIaSQl+U8pKlIK+4MoCA3worWq55TmWIYPb27vmuVWfH4L0huI3Kuk5qI0t9Z4Q0FuKAK1EHhPPJ+Kpv0e2+Ha+lfVEKB2FlOI2xYKPYVLYSpR9p8+5R5/trO3XW1h996kdBYJbdcWy95vNvKr776bgoE1yPCSsxYzkoJLjcUvqUtw8lKUNLV2kgAhsjItia/xC7WmwZbnWPWS5393wLTCuNzYjP3B3lKexhtxQU6rlSRwgE8qA+MV0NYI6o9G4fP2Dp7WLkGJkG0djZkzfMgzCTFQbk1bbagOyBHXwVRI44abbZbISAnz7llS1bzecWyy462wt5SElSW0FIUsgfkjuIHJ9nmQP0kUH9KVKvhk2L+ydtX6yxX75r6bZtnPZ9xiwZXTFsy2syHkNOTJVwxpTMdJIBcWGrstwpSPM9iFK4HkknyoOrz/EpWc4jccUiZnkOKruTRZN1sDzLM+Og/leC4604ltRHI7wnuTzykpUARjn3MSLdbdduoK03rKb1kku2bCct6rrepapU6WhhstIW86rzWvsQkE/2eQA4FbnrEnub/AOeXUt/+6M7+a6Dv9hZa/wBIuysYu5uL7uo9i3sWa4wZcgrRi93f5UzJiKWeW4jygoOMc9javXbCe5SVacrJXup0NmV0VZm+4UJchSrZJZUpRSpLgmtAFJH9bhR/96r+OQ77trpbtlvF8dgXjLsFZZNx9q2ZMmCAXvIDzCl93lxQdRYtwalyi43S0Y1tHEbtPsjgaucWDe4z70FZc8IJfQhZU0fE9ThQHreXt8qn/Uzvu+aetUC2YnqnZeY3a9LCFvYhij91/Bkbkhcgq4DBdHHCGlLBJIUodo4VAOj93Dth49aeknemDQ7Js7p3ucWfFjsNICJTUdwKZnxllPPa53I8Xt47+9KueF8J3bQS3pyzCNmOumpVr1LmOvbVCkLiQrbl0H3ldHgOFOSHWO5RT3uLWe9S1KcPcs+2qlSlBLtRN3J7VU5qzlkT1uTExfHWUN+MU+p3qAUQnu45IBIHxH2VNdE6i6oemrA4WsbRfMC2rZYYW9El3mdMxqZAW46txxj8VHnpktdy+UqPhKTyoEKHb21fRH5hj99f/mKolV3+tYvuq7yz+SewLH4cL6UoVpPp3u2J7PyzqG2perdd9kZrHYgvItTS0W2zW9pKAmFGLn4x7zQkrfWEFZA4bbHIPL6p011PaKuuV3Sw5Tg2fW/Ob/OySZYru/Lsv4FlyFhXEac0zLMlvtHapK4zXmlKklPKknTtKkaBn/DunvK8h32z1M7zm2NWS2e2OWXGMfsLjr8Cyxlqc8R5cp5tpyXIcSsju8FlCASAlR4WO02BvzGNX5tZsPzTHsghR8ibdTaL0hlh+FOmoQV/g9tDbypJlKSCUILASsjhKlK8qplQ7c+tdwbLlwLtZFY3aZeC5DBvuKtG8P8AZdFtrAf9/LEQqihUdchkIbD4/HFSieEpAelfOpKzYZfMdsmxtcZliRypl4WuRPRb5Lb85sKV+DgmFLfcMpaE9zaAgpXz2pUVgpFMxu7Tr7ZY11uWM3PH5MhJK7bclxlyWOFEALMZ11rkgA+q4ryI54PIEY2nrTeeyWLNdQ9iVtvWCXu333HkRrtJTGushtQEn32oxVLiIUwuQylCBIHDxUokgJFwtguabdFF5cirnhlHvlUVCksl3j1uwKJUE888cknig/nfLFZMmtEzH8ks8G7Wu4Mqjy4M6Oh+PIaUOFIcbWClaSPaCCDU49E7pY/Zp1V/g23f5NVWlBPsZ6eNAYVe42TYbozX1hvEIqMa4WzGYUWSyVJKSUOtthSeUkg8H2EiqDSv8uONstqeecShtCSpSlHgJA9pJ+IUHlZdluOYHjF0zPL7vHtdls0VyZOmSFdrbLKBypR/T/YB5kkAAkgVnjTGGX/qC2LD6sdtWaTb7ZBZW1rLF5gINthL55u0ls+QmSEkFI/7JvsHJV5jJHUJ7o30/wCf78YxLOo2UX/UGCSkym4NgiR32sovDSx2OyS8+0DCZUCptsdwdWAtXqhIqqj3arpXAAGAbVAHkALVbv8ArqD9AKVgD/TV9LH6g7V+qrd/11fL079Zcvrh6wrLFxvEZOP4Jri03S9RUTHkuS50t0JitPvhHKGilt9wBtKl8ErPerkBIbzy2Lkc7FrxCw+6R7ZfZEB9q2TZLPjNRpSmyGnFo/rJSspJHx8ew+ys8TemTaW29HZLjHUnneP3/Pr/AI07j8WXaYKmrZaiQlQebSpIUt115tl11zsQPUQhttCUetp2lBFNQW3eWp9Oi4b4yO1ZbecbsqWBbcUjoZZcaioPDhkTnGy9JcQkFa1qYZHsCAQVq6vRWZtbK1tbdmQ52UPW/Le+72+PkceCzKhxXD+LZCYaQjwwkdyCpTjhSody1H2f03xiWYZ9pzMMHwKdCh32/wBqetsR+bIWwy34w7FlTjbbikeopfBCFefHlXta8styxvB7Jj91gWuDItsJqL70tji3YsZtCe1DTbjiUKcCEBKe8oR3EFXYjntAdFSlKBSlKBSlKBSlKBSlKBSvHlZliELJ4eETMqs7GRXGOuXDtDs5pE2SwjnvdbYKvEWhPB5UAQODzXzQNia/umXTtf2zOsel5RbGg/OsjFzYcnxWj28LdjpUXEJ9dHmpIHrJ/SKDoaUpQKUpQKUpQc5m+ttdbMgR7XsfAccyuFEe98MRr3amJzTTvBT3oQ8lQSrgkcgc8EiuN9E7pY/Zp1V/g23f5NVWlByeDak1TrBctzWussTxNVwCBLVY7LGgGQEc9oc8FCe/juVxzzxyf01/HcutbXuPVWV6uvCkoi5NapFvLik93grWg+G7x+lC+1Y/tSK7KlBnHoMyK6fAPA1LmLKoWZ6reXil+gOjhxosk+9nQOT3NusFtaHB6qhzx7K6HFNGZAx1U5p1DZhNtcpiXYoGN4pHYcW49Bho5clFwKbSlCnHiCAhS/V9pHsHfXjVmJ3bPLXs5pqVbcntjRiG4294srmwyeTElJ80SGe71khYJbVypsoJJPX0Gdr3oba126wk73ayLHo+MRsVZx6AStx25wT748aSWmFMljl78jxFOEpST6hPHGiaUoFKUoPMySRksWySn8PtNsud3Qke9olyuLkGM6rkchb7bD6kDjk8hpfmAOBzyMtdImg+pHQma7An5xbNa3Cz7Hyd7I5b1pyOf75thc7yW22XbelEgcqQPNxrjhR8/IVrilBlLr5sdw3LjuHdLGLrW5d9hX6NJuZa8zb7FDWHZUxzj8lAX4SE8kdy1BI5PlVQ2Fq3P3sg13etT3yyWqDrxmZxZrg074F1C46Y7UVTrfJjICO8+MEOlCgn8Usciuww3V+K4TdrxksFmRPyHIHA5dL3cHfHmykpJ8Nnv4AbYbBIQy2ENI5UQkFSietoIFgeiMtuHUXP6ntqRsctN/TjqMVtdmx6c/PYai+J4rkiRLeYjqedUslKUBlKUIT+Usn1ex2BvvGNX5tZsPzTHsghR8ibdRaL0hlh6FOmoQV/g9tDbypJlKSCUILASsjhKlK8qplQ/c+tdwbLlQLrZFY3aZeC5DBvuKtG8P8AZdFtrAf9/LEQmKFR1yGQhsPj8cVKJ4CQFdxu7Tr7ZY11uWM3PH5MgErttyXGXJY4JACzGdda5IAPquK8iOeDyB6dfLaxc022KL05FXPDKPfKoqFJZLvHrdgUSoJ5545JPFfVQTvRH5hj99f/AJiqJUk01ksSx2qNiWQQbjap8uS65F9+xFstyO4jhKFHyJ/s8v7OardU3ldNdziVUz6xNU93FyawMW1/C2eBjU/xrpwsOJif3ExRETE/8kpSlTO0UpSgUpSgUpSgV/CdBhXOFIttyhsS4ktpbEiO+2HG3m1ApUhaVchSSCQQfIg1/elBKvRO6WP2adVf4Nt3+TT0Tulj9mnVX+Dbd/k1VaUEq9E7pY/Zp1V/g23f5NdFhOldN60uD921xqXDMVnSWfe78myWGLBdda5B7FLZbSVJ5APBPHIFdnSgUpSgUpSgUpSgUpSgUpSgUpXL5FsKy49cBZ0wrndbiEBxcS2RTIdbQfYVAcBPP9/P9lB1FK8bGcts2WxXZFqdcC46/DkR32y28wv/ALq0HzH8vb+ivWdLoaWWEoU4EnsCyQkq48uSAeB/soPz/wAKsFn2F7oHttjUGORcSVjtmi45dcgstuZje91vuF+4Se4I7XJzqwlhClAkBLjp58MJV0untT63j9fd6RqbDbXj1g07hrNnuD8BgJeuV3uJ8QmU/wCbklaWACVuqUvu8ySfOrp0n6Lvei9eXKBmk+23HMcpv9wyTIp8Ba3GpEqS8VJCVrQhSglsIT5pT5g8DivA6WdDbW1Des+vWxcix+Q7l+VXLIXFWhbj7k4SFJ8H3wt5lstBltPaltvuBKiSsjhNBomlKUClKUClKUClKUClKUClKUClKUClKUClKUClKUClKUClf4eeZjMuSJDqG2mkla1rPCUpA5JJPsAFcOrcOPrUVQLHkc+PyeyTGti1NOj9KSSOR/soP8bx/F64uExAAfiPRX2F/G24H0AKH6DwSP8AbUj+HnYXyuF9FTSlWWlNNXr/ACj1/TM5RY+LgZvNVTT6+v6mY/8AD4edhfK4X0VNPh52F8rhfRU0pVuao3Y5M1p91xauqfJ8POwvlcL6Kmnw87C+VwvoqaUpmqN2ORp91xauqfJ8POwvlcL6Kmnw87C+VwvoqaUpmqN2ORp91xauqfJ8POwvlcL6Kmnw87C+VwvoqaUpmqN2ORp91xauqfJ8POwvlcL6Kmnw87C+VwvoqaUpmqN2ORp91xauqfJ8POwvlcL6Kmnw87C+VwvoqaUpmqN2ORp91xauqfJ8POwvlcL6Kmnw87C+VwvoqaUpmqN2ORp91xauqfJ8POwvlcL6Kmnw87C+VwvoqaUpmqN2ORp91xauqfJ8POwvlcL6Kmnw87C+VwvoqaUpmqN2ORp91xauqfJ8POwvlcL6Kmnw87C+VwvoqaUpmqN2ORp91xauqfJ8POwvlcL6Kmnw87C+VwvoqaUpmqN2ORp91xauqfJ8POwvlcL6Kmnw87C+VwvoqaUpmqN2ORp91xauqfJ8POwvlcL6KmqXoSfIvdjvuQ3ApXOnXl0vOgcdwDTZSn+4dx4Hxc0pUl3RTTTHpDQ5P3GNjYtcYtcz/X+zM/65fbOXXnBdmGfjq2mXZ1nZEjvbCg4Q6sBRH6QEgc/ornPh52F8rhfRU0pXu2opqw/WYS/m7rHwruacOuYj0j9TMHw87C+VwvoqafDzsL5XC+ippSqM1RuxycjT7ri1dU+T4edhfK4X0VNPh52F8rhfRU0pTNUbscjT7ri1dU+T4edhfK4X0VNPh52F8rhfRU0pTNUbscjT7ri1dU+T4edhfK4X0VNPh52F8rhfRU0pTNUbscjT7ri1dU+T4edhfK4X0VNPh52F8rhfRU0pTNUbscjT7ri1dU+T4edhfK4X0VNPh52F8rhfRU0pTNUbscjT7ri1dU+T4edhfK4X0VNPh52F8rhfRU0pTNUbscjT7ri1dU+T4edhfK4X0VNPh52F8rhfRU0pTNUbscjT7ri1dU+T4edhfK4X0VNPh52F8rhfRU0pTNUbscjT7ri1dU+T4edhfK4X0VNPh52F8rhfRU0pTNUbscjT7ri1dU+T4edhfK4X0VNPh52F8rhfRU0pTNUbscjT7ri1dU+T4edhfK4X0VNPh52F8rhfRU0pTNUbscjT7ri1dU+XnZHuHN7/AGWVZp8yP73lJCHPDYCVFPIPHI/Txx/dWp2GGYrDcaO2ltplAbQhI8kpA4AH+ylK591TFNcREf41/wCAxsTGtqqsSqZn+U/ufX/If//Z)"
      ]
    },
    {
      "cell_type": "markdown",
      "metadata": {
        "id": "Q_RLntTht2Fd"
      },
      "source": [
        "#**Analysis**"
      ]
    },
    {
      "cell_type": "code",
      "metadata": {
        "id": "iCvIEQR2rGtP"
      },
      "source": [
        "x= data['sqft_living'][1:100]    \n",
        "y=data['price'][1:100]"
      ],
      "execution_count": 46,
      "outputs": []
    },
    {
      "cell_type": "markdown",
      "metadata": {
        "id": "zxmyvZEquJbp"
      },
      "source": [
        "# number of observations/points\n"
      ]
    },
    {
      "cell_type": "code",
      "metadata": {
        "id": "6Ubfh027t6Xl"
      },
      "source": [
        "nx = np.size(x)   "
      ],
      "execution_count": 47,
      "outputs": []
    },
    {
      "cell_type": "code",
      "metadata": {
        "colab": {
          "base_uri": "https://localhost:8080/"
        },
        "id": "MsLzzd4euCYL",
        "outputId": "d20b19dc-4154-4509-88d7-868861d2ef87"
      },
      "source": [
        "nx"
      ],
      "execution_count": 48,
      "outputs": [
        {
          "output_type": "execute_result",
          "data": {
            "text/plain": [
              "99"
            ]
          },
          "metadata": {
            "tags": []
          },
          "execution_count": 48
        }
      ]
    },
    {
      "cell_type": "code",
      "metadata": {
        "id": "QdgrfNtUuDwe"
      },
      "source": [
        "ny=np.size(y)"
      ],
      "execution_count": 49,
      "outputs": []
    },
    {
      "cell_type": "code",
      "metadata": {
        "colab": {
          "base_uri": "https://localhost:8080/"
        },
        "id": "ZqvZwemiuhuu",
        "outputId": "a1bc5b64-ccfb-416b-933c-b12ad548c106"
      },
      "source": [
        "ny"
      ],
      "execution_count": 50,
      "outputs": [
        {
          "output_type": "execute_result",
          "data": {
            "text/plain": [
              "99"
            ]
          },
          "metadata": {
            "tags": []
          },
          "execution_count": 50
        }
      ]
    },
    {
      "cell_type": "markdown",
      "metadata": {
        "id": "jougbPgiuljf"
      },
      "source": [
        "# mean of x and y vector "
      ]
    },
    {
      "cell_type": "code",
      "metadata": {
        "id": "SpfGicrEuiQF"
      },
      "source": [
        "x_mean=np.mean(x)"
      ],
      "execution_count": 51,
      "outputs": []
    },
    {
      "cell_type": "code",
      "metadata": {
        "colab": {
          "base_uri": "https://localhost:8080/"
        },
        "id": "aPNkXMIKuvHX",
        "outputId": "6ea5847c-890b-4a21-fb0c-245955d05116"
      },
      "source": [
        "x_mean"
      ],
      "execution_count": 52,
      "outputs": [
        {
          "output_type": "execute_result",
          "data": {
            "text/plain": [
              "2097.89898989899"
            ]
          },
          "metadata": {
            "tags": []
          },
          "execution_count": 52
        }
      ]
    },
    {
      "cell_type": "code",
      "metadata": {
        "id": "obnisnz7uwOD"
      },
      "source": [
        "y_mean=np.mean(y)"
      ],
      "execution_count": 53,
      "outputs": []
    },
    {
      "cell_type": "code",
      "metadata": {
        "colab": {
          "base_uri": "https://localhost:8080/"
        },
        "id": "U8s-5giJu1TF",
        "outputId": "7a8a3839-84eb-44ed-fff6-340dab5ab02e"
      },
      "source": [
        "y_mean"
      ],
      "execution_count": 54,
      "outputs": [
        {
          "output_type": "execute_result",
          "data": {
            "text/plain": [
              "522151.8686868687"
            ]
          },
          "metadata": {
            "tags": []
          },
          "execution_count": 54
        }
      ]
    },
    {
      "cell_type": "markdown",
      "metadata": {
        "id": "DNvHmg1fu7JF"
      },
      "source": [
        "# calculating cross-deviation and deviation about x     \n",
        "\n",
        "The cross-product of deviations is equal to the sum of the products of mean-corrected variables. This is the numerator of the Pearson correlation coefficient. The covariance is an unstandardized measure of the relationship between two variables"
      ]
    },
    {
      "cell_type": "code",
      "metadata": {
        "id": "iFzXWq-uu2UD"
      },
      "source": [
        "ss_xy = np.sum(y*x) - nx*y_mean*x_mean     #nx is total number"
      ],
      "execution_count": 61,
      "outputs": []
    },
    {
      "cell_type": "code",
      "metadata": {
        "colab": {
          "base_uri": "https://localhost:8080/"
        },
        "id": "8ji4_I7cv5gL",
        "outputId": "4bf8a5f2-4bc3-4655-b418-fcc050e000f6"
      },
      "source": [
        "ss_xy"
      ],
      "execution_count": 62,
      "outputs": [
        {
          "output_type": "execute_result",
          "data": {
            "text/plain": [
              "16604634588.686874"
            ]
          },
          "metadata": {
            "tags": []
          },
          "execution_count": 62
        }
      ]
    },
    {
      "cell_type": "code",
      "metadata": {
        "id": "qxO8xFubv6_8"
      },
      "source": [
        "ss_xx = np.sum(x*x) - nx*x_mean*x_mean     "
      ],
      "execution_count": 63,
      "outputs": []
    },
    {
      "cell_type": "code",
      "metadata": {
        "colab": {
          "base_uri": "https://localhost:8080/"
        },
        "id": "z4iTI__Cwf5w",
        "outputId": "9da60dd1-470e-4d6b-e371-1298752d72ca"
      },
      "source": [
        "ss_xx"
      ],
      "execution_count": 64,
      "outputs": [
        {
          "output_type": "execute_result",
          "data": {
            "text/plain": [
              "72476882.98989898"
            ]
          },
          "metadata": {
            "tags": []
          },
          "execution_count": 64
        }
      ]
    },
    {
      "cell_type": "markdown",
      "metadata": {
        "id": "dZqnji-pwnzq"
      },
      "source": [
        "#calculating regression coefficients "
      ]
    },
    {
      "cell_type": "code",
      "metadata": {
        "id": "Xh7vmrQmwhXL"
      },
      "source": [
        "b1 = ss_xy / ss_xx     "
      ],
      "execution_count": 67,
      "outputs": []
    },
    {
      "cell_type": "code",
      "metadata": {
        "colab": {
          "base_uri": "https://localhost:8080/"
        },
        "id": "NPLwybSswy0l",
        "outputId": "38bb929f-d26a-482a-84d9-19eead066608"
      },
      "source": [
        "b1"
      ],
      "execution_count": 68,
      "outputs": [
        {
          "output_type": "execute_result",
          "data": {
            "text/plain": [
              "229.10249314945074"
            ]
          },
          "metadata": {
            "tags": []
          },
          "execution_count": 68
        }
      ]
    },
    {
      "cell_type": "code",
      "metadata": {
        "id": "Za1ksA-5w45W"
      },
      "source": [
        "b0 = y_mean - b1*x_mean    "
      ],
      "execution_count": 69,
      "outputs": []
    },
    {
      "cell_type": "code",
      "metadata": {
        "colab": {
          "base_uri": "https://localhost:8080/"
        },
        "id": "XeX7MfgNxLpp",
        "outputId": "8a2c53fc-c75b-45d3-a44e-c264f43cc26c"
      },
      "source": [
        "b0"
      ],
      "execution_count": 70,
      "outputs": [
        {
          "output_type": "execute_result",
          "data": {
            "text/plain": [
              "41517.979725295736"
            ]
          },
          "metadata": {
            "tags": []
          },
          "execution_count": 70
        }
      ]
    },
    {
      "cell_type": "markdown",
      "metadata": {
        "id": "X2fiUPzCxczH"
      },
      "source": [
        "#Know find the plotting the actual points as scatter plot"
      ]
    },
    {
      "cell_type": "code",
      "metadata": {
        "colab": {
          "base_uri": "https://localhost:8080/",
          "height": 293
        },
        "id": "hWAGCVbpxMLK",
        "outputId": "c71128ed-fcc1-4958-aedb-436071ff0fd8"
      },
      "source": [
        "plt.scatter(x, y, color = \"m\",marker = \"o\", s = 30)  #this x and y plot"
      ],
      "execution_count": 72,
      "outputs": [
        {
          "output_type": "execute_result",
          "data": {
            "text/plain": [
              "<matplotlib.collections.PathCollection at 0x7f0263446110>"
            ]
          },
          "metadata": {
            "tags": []
          },
          "execution_count": 72
        },
        {
          "output_type": "display_data",
          "data": {
            "image/png": "[encoded data removed]",
            "text/plain": [
              "<Figure size 432x288 with 1 Axes>"
            ]
          },
          "metadata": {
            "tags": [],
            "needs_background": "light"
          }
        }
      ]
    },
    {
      "cell_type": "markdown",
      "metadata": {
        "id": "JWuMx9zF7xn2"
      },
      "source": [
        "The simple linear regression equation is graphed as a straight line. \n",
        " \n",
        "The simple linear regression equation is represented like this: Ε(y) = (β0 +β1*x)\n",
        "β0 is the y-intercept of the regression line.\n",
        "β1 is the slope."
      ]
    },
    {
      "cell_type": "markdown",
      "metadata": {
        "id": "jcJpempAx2WJ"
      },
      "source": [
        "#find the prediction x axis in future"
      ]
    },
    {
      "cell_type": "code",
      "metadata": {
        "id": "0biUDi2kxwii"
      },
      "source": [
        "pre_x = b0 + b1*y "
      ],
      "execution_count": 102,
      "outputs": []
    },
    {
      "cell_type": "code",
      "metadata": {
        "colab": {
          "base_uri": "https://localhost:8080/"
        },
        "id": "ThrehXNQya5w",
        "outputId": "27e999b4-5bce-40c3-9d10-e7008d05d783"
      },
      "source": [
        "pre_x"
      ],
      "execution_count": 103,
      "outputs": [
        {
          "output_type": "execute_result",
          "data": {
            "text/plain": [
              "1     1.232987e+08\n",
              "2     4.127997e+07\n",
              "3     1.384194e+08\n",
              "4     1.168838e+08\n",
              "5     2.806921e+08\n",
              "          ...     \n",
              "95    2.073793e+08\n",
              "96    5.674439e+07\n",
              "97    4.563291e+07\n",
              "98    7.197970e+07\n",
              "99    1.002739e+08\n",
              "Name: price, Length: 99, dtype: float64"
            ]
          },
          "metadata": {
            "tags": []
          },
          "execution_count": 103
        }
      ]
    },
    {
      "cell_type": "markdown",
      "metadata": {
        "id": "_iwKQNZrynWl"
      },
      "source": [
        "#plotting the regression line x prediction"
      ]
    },
    {
      "cell_type": "code",
      "metadata": {
        "colab": {
          "base_uri": "https://localhost:8080/",
          "height": 312
        },
        "id": "c42lMjgkyclh",
        "outputId": "12b47141-bc5b-4392-d760-92a3457ad36c"
      },
      "source": [
        "plt.plot(y, pre_x, color = \"g\")\n",
        "plt.title('x-axis :green lin is sqft_living')     \n",
        "plt.xlabel('x')     \n",
        "plt.ylabel('y')  "
      ],
      "execution_count": 104,
      "outputs": [
        {
          "output_type": "execute_result",
          "data": {
            "text/plain": [
              "Text(0, 0.5, 'y')"
            ]
          },
          "metadata": {
            "tags": []
          },
          "execution_count": 104
        },
        {
          "output_type": "display_data",
          "data": {
            "image/png": "[encoded data removed]",
            "text/plain": [
              "<Figure size 432x288 with 1 Axes>"
            ]
          },
          "metadata": {
            "tags": [],
            "needs_background": "light"
          }
        }
      ]
    },
    {
      "cell_type": "markdown",
      "metadata": {
        "id": "ntOMqgLl0uV4"
      },
      "source": [
        "**in future squre feet is progress**"
      ]
    },
    {
      "cell_type": "markdown",
      "metadata": {
        "id": "_iXgrF5iy5HK"
      },
      "source": [
        "#find the prediction y axis in future"
      ]
    },
    {
      "cell_type": "code",
      "metadata": {
        "id": "0ogi8n3aylcI"
      },
      "source": [
        "pre_y = b0 + b1*x "
      ],
      "execution_count": 105,
      "outputs": []
    },
    {
      "cell_type": "code",
      "metadata": {
        "colab": {
          "base_uri": "https://localhost:8080/"
        },
        "id": "VmnbNzfSzBr4",
        "outputId": "878e6f81-94ff-4311-90f6-f3d781223e78"
      },
      "source": [
        "pre_y"
      ],
      "execution_count": 106,
      "outputs": [
        {
          "output_type": "execute_result",
          "data": {
            "text/plain": [
              "1     6.303114e+05\n",
              "2     2.179269e+05\n",
              "3     4.905589e+05\n",
              "4     4.264102e+05\n",
              "5     1.283253e+06\n",
              "          ...     \n",
              "95    7.975562e+05\n",
              "96    4.905589e+05\n",
              "97    3.072769e+05\n",
              "98    4.561935e+05\n",
              "99    5.730358e+05\n",
              "Name: sqft_living, Length: 99, dtype: float64"
            ]
          },
          "metadata": {
            "tags": []
          },
          "execution_count": 106
        }
      ]
    },
    {
      "cell_type": "markdown",
      "metadata": {
        "id": "ZIRcCMgKzUTY"
      },
      "source": [
        "#plotting the regression line x prediction"
      ]
    },
    {
      "cell_type": "code",
      "metadata": {
        "colab": {
          "base_uri": "https://localhost:8080/",
          "height": 312
        },
        "id": "9wy3FoJRzC5k",
        "outputId": "90f92774-6ec1-4e1e-c510-919b14d2db3f"
      },
      "source": [
        "plt.plot(x,pre_y,color='c')\n",
        "plt.title('y-axis :c line is sqft_living') \n",
        "plt.xlabel('x')     \n",
        "plt.ylabel('y')  "
      ],
      "execution_count": 107,
      "outputs": [
        {
          "output_type": "execute_result",
          "data": {
            "text/plain": [
              "Text(0, 0.5, 'y')"
            ]
          },
          "metadata": {
            "tags": []
          },
          "execution_count": 107
        },
        {
          "output_type": "display_data",
          "data": {
            "image/png": "[encoded data removed]",
            "text/plain": [
              "<Figure size 432x288 with 1 Axes>"
            ]
          },
          "metadata": {
            "tags": [],
            "needs_background": "light"
          }
        }
      ]
    },
    {
      "cell_type": "markdown",
      "metadata": {
        "id": "UH1xzIXh1Bym"
      },
      "source": [
        "In future(prediction) price grether"
      ]
    },
    {
      "cell_type": "markdown",
      "metadata": {
        "id": "IEwfBFLG1fdN"
      },
      "source": [
        "# estimating coefficients "
      ]
    },
    {
      "cell_type": "code",
      "metadata": {
        "colab": {
          "base_uri": "https://localhost:8080/"
        },
        "id": "q9MtczRLzLA6",
        "outputId": "1581bc1f-d4b3-47d5-d3b1-18771c2430bb"
      },
      "source": [
        "b = estimate_coef(x,y)"
      ],
      "execution_count": 111,
      "outputs": [
        {
          "output_type": "stream",
          "text": [
            "c 41517.979725295736 229.10249314945074\n"
          ],
          "name": "stdout"
        }
      ]
    },
    {
      "cell_type": "code",
      "metadata": {
        "colab": {
          "base_uri": "https://localhost:8080/"
        },
        "id": "tpjdk5yS8jWG",
        "outputId": "00ac7c51-a36d-4ca4-fdb1-d3b704b0821f"
      },
      "source": [
        "print('estimate_sqft_living::41517.979725295736\\n','estimate_price::229.10249314945074')"
      ],
      "execution_count": 113,
      "outputs": [
        {
          "output_type": "stream",
          "text": [
            "estimate_sqft_living::41517.979725295736\n",
            " estimate_price::229.10249314945074\n"
          ],
          "name": "stdout"
        }
      ]
    },
    {
      "cell_type": "code",
      "metadata": {
        "id": "88WZO2s1_EF1"
      },
      "source": [
        ""
      ],
      "execution_count": null,
      "outputs": []
    }
  ]
}